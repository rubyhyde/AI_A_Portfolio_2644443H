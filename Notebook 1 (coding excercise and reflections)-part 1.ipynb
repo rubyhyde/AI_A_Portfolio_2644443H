{
 "cells": [
  {
   "cell_type": "markdown",
   "metadata": {},
   "source": [
    "# Introduction to Python Programming\n",
    "\n",
    "This repository documents my learning journey with basic Python concepts as part of my programming course. I have used GitHub Codespaces and GitHub Copilot to support my understanding and writing of code.\n",
    "\n",
    "---\n",
    "\n",
    "## Printing in Python\n",
    "\n",
    "### Hello World!\n",
    "\n"
   ]
  },
  {
   "cell_type": "code",
   "execution_count": 1,
   "metadata": {},
   "outputs": [
    {
     "name": "stdout",
     "output_type": "stream",
     "text": [
      "Hello, world!\n"
     ]
    }
   ],
   "source": [
    "# This is my first Python program!\n",
    "print(\"Hello, world!\")"
   ]
  },
  {
   "cell_type": "markdown",
   "metadata": {},
   "source": [
    "#### Step-by-Step Explanation:\n",
    "\n",
    "1.  **`print()`:** This is a built-in Python function used to display output on the screen.\n",
    "2.  **`\"Hello, world!\"`:** This is a string, a sequence of characters enclosed in quotes.\n",
    "3.  **Quotes:** You can use either single (`'`) or double (`\"`) quotes for strings in Python.\n",
    "4.  **Parentheses:** The string is passed to the `print()` function using parentheses `()`.\n",
    "\n",
    "#### Key Concepts:\n",
    "\n",
    "* **Syntax:** Python is known for its clean and readable syntax.\n",
    "* **Execution:** Running this code tells Python to execute the `print()` function with the argument `\"Hello, world!\"`.\n",
    "\n",
    "**Reflection:**\n",
    "\n",
    "This was my first time running Python code. It was exciting to see it work, and it helped me understand the basics of printing and syntax.\n",
    "\n",
    "---\n",
    "\n",
    "## Basic Arithmetic Operations"
   ]
  },
  {
   "cell_type": "code",
   "execution_count": 26,
   "metadata": {},
   "outputs": [
    {
     "name": "stdout",
     "output_type": "stream",
     "text": [
      "5 + 3 = 8\n",
      "10 - 4 = 6\n",
      "7 * 6 = 42\n",
      "8 / 2 = 4.0\n"
     ]
    }
   ],
   "source": [
    "# Addition\n",
    "print(\"5 + 3 =\", 5 + 3)\n",
    "\n",
    "# Subtraction\n",
    "print(\"10 - 4 =\", 10 - 4)\n",
    "\n",
    "# Multiplication\n",
    "print(\"7 * 6 =\", 7 * 6)\n",
    "\n",
    "# Division\n",
    "print(\"8 / 2 =\", 8 / 2)"
   ]
  },
  {
   "cell_type": "markdown",
   "metadata": {},
   "source": [
    "#### Explanation:\n",
    "\n",
    "* Python uses standard mathematical symbols: `+` (addition), `-` (subtraction), `*` (multiplication), `/` (division) for arithmetic operations.\n",
    "* The asterisk (`*`) is used for multiplication instead of the letter 'x'.\n",
    "* The `print()` function can combine text (strings) and the results of calculations.\n",
    "\n",
    "#### Reflection:\n",
    "\n",
    "These operations felt intuitive because they matched what I already know from maths. It gave me confidence in understanding how Python handles numbers.\n",
    "\n",
    "---\n",
    "\n",
    "## Variables"
   ]
  },
  {
   "cell_type": "code",
   "execution_count": 5,
   "metadata": {},
   "outputs": [
    {
     "name": "stdout",
     "output_type": "stream",
     "text": [
      "Hello, world!\n"
     ]
    }
   ],
   "source": [
    "# This is a comment. It is ignored by Python.\n",
    "message = \"Hello, world!\"\n",
    "print(message)\n"
   ]
  },
  {
   "cell_type": "markdown",
   "metadata": {},
   "source": [
    "#### Key Concepts:\n",
    "\n",
    "* **Variables:** Store values for reuse. In this case, `message` stores a string.\n",
    "* **Assignment (=):** Used to give a variable a value.\n",
    "* **Functions:** `print()` is used again to display the value of the variable."
   ]
  },
  {
   "cell_type": "code",
   "execution_count": 6,
   "metadata": {},
   "outputs": [
    {
     "name": "stdout",
     "output_type": "stream",
     "text": [
      "This is my own prompt\n"
     ]
    }
   ],
   "source": [
    "message = \"This is my own prompt\"\n",
    "print(message)\n"
   ]
  },
  {
   "cell_type": "markdown",
   "metadata": {},
   "source": [
    "#### Reflection:\n",
    "\n",
    "I had to ask Copilot to explain this at first, but once it clicked, it made a lot more sense. I now understand that variables make code more flexible.\n",
    "\n",
    "---\n",
    "\n",
    "## Functions\n",
    "\n",
    "### Example 1: Greeting"
   ]
  },
  {
   "cell_type": "code",
   "execution_count": 7,
   "metadata": {},
   "outputs": [
    {
     "name": "stdout",
     "output_type": "stream",
     "text": [
      "Hello, world!\n"
     ]
    }
   ],
   "source": [
    "# Define a function\n",
    "def greet():\n",
    "    # Set up a message inside the function\n",
    "    message = \"Hello, world!\"\n",
    "    # Print the message\n",
    "    print(message)\n",
    "\n",
    "# Call the function\n",
    "greet()\n"
   ]
  },
  {
   "cell_type": "markdown",
   "metadata": {},
   "source": [
    "#### Key Concepts:\n",
    "\n",
    "* **`def`:** Used to define a function.\n",
    "* **Function names:** Should be descriptive of their purpose.\n",
    "* **Indentation:** Required to define what belongs to the function.\n",
    "* **Calling a function:** Runs its code.\n",
    "\n",
    "### Example 2: My Own Function"
   ]
  },
  {
   "cell_type": "code",
   "execution_count": 8,
   "metadata": {},
   "outputs": [
    {
     "name": "stdout",
     "output_type": "stream",
     "text": [
      "I like using functions!\n"
     ]
    }
   ],
   "source": [
    "def opinion():\n",
    "    message = \"I like using functions!\"\n",
    "    print(message)\n",
    "\n",
    "opinion()"
   ]
  },
  {
   "cell_type": "markdown",
   "metadata": {},
   "source": [
    "#### Reflection:\n",
    "\n",
    "Using functions made me realise how Python can be used to structure and reuse code. Copilot has been really helpful in explaining concepts when I get stuck and in giving me examples to play around with.\n",
    "\n",
    "---\n",
    "\n",
    "## Loops\n",
    "\n",
    "Loops allow you to repeat a block of code multiple times, which is helpful when you need to perform repetitive tasks.\n",
    "\n",
    "### Example 1: Using a `for` loop"
   ]
  },
  {
   "cell_type": "code",
   "execution_count": 9,
   "metadata": {},
   "outputs": [
    {
     "name": "stdout",
     "output_type": "stream",
     "text": [
      "Hello, world!\n",
      "Hello, world!\n",
      "Hello, world!\n",
      "Hello, world!\n",
      "Hello, world!\n"
     ]
    }
   ],
   "source": [
    "# This is a for loop that repeats the action 5 times.\n",
    "for i in range(5):\n",
    "    # Inside the loop, we create a variable called 'message' and store the text \"Hello, world!\" in it.\n",
    "    message = \"Hello, world!\"\n",
    "    # We use the print() function to display the value stored in the 'message' variable.\n",
    "    print(message)"
   ]
  },
  {
   "cell_type": "markdown",
   "metadata": {},
   "source": [
    "#### Key Concepts:\n",
    "\n",
    "* **Loops:** Loops repeat a block of code multiple times.\n",
    "* **For Loop:** The `for` loop iterates over a sequence of values (in this case, numbers from 0 to 4) and executes the code block for each value.\n",
    "* **Range Function:** The `range(5)` function generates a sequence of 5 numbers, and the loop runs once for each number.\n",
    "\n",
    "### Example 2: Custom Message Loop"
   ]
  },
  {
   "cell_type": "code",
   "execution_count": 10,
   "metadata": {},
   "outputs": [
    {
     "name": "stdout",
     "output_type": "stream",
     "text": [
      "I made this using a loop!\n",
      "I made this using a loop!\n",
      "I made this using a loop!\n",
      "I made this using a loop!\n",
      "I made this using a loop!\n"
     ]
    }
   ],
   "source": [
    "for i in range(5):\n",
    "    message = \"I made this using a loop!\"\n",
    "    print(message)\n"
   ]
  },
  {
   "cell_type": "markdown",
   "metadata": {},
   "source": [
    "#### Reflection:\n",
    "\n",
    "This concept is making more sense to me. I now understand how a loop can repeat actions and print the same message multiple times. Copilot explained this clearly, and I feel more confident using loops.\n",
    "\n",
    "---\n",
    "\n",
    "## Lists\n",
    "\n",
    "A list is a collection of items, and you can loop through the list to access each item one by one.\n",
    "\n",
    "### Example: Using a List with a for loop"
   ]
  },
  {
   "cell_type": "code",
   "execution_count": 11,
   "metadata": {},
   "outputs": [
    {
     "name": "stdout",
     "output_type": "stream",
     "text": [
      "Hello, world!\n",
      "Hi there!\n",
      "Greetings!\n",
      "Welcome!\n",
      "Good day!\n"
     ]
    }
   ],
   "source": [
    "# We create a list called 'messages' that contains multiple strings.\n",
    "messages = [\"Hello, world!\", \"Hi there!\", \"Greetings!\", \"Welcome!\", \"Good day!\"]\n",
    "\n",
    "# We use a for loop to go through each item in the 'messages' list.\n",
    "for message in messages:\n",
    "    # We use the print() function to display each message.\n",
    "    print(message)\n"
   ]
  },
  {
   "cell_type": "markdown",
   "metadata": {},
   "source": [
    "#### Key Concepts:\n",
    "\n",
    "* **Lists:** A list is an ordered collection of items. You can store multiple values in one variable.\n",
    "* **List Elements:** Each item in the list is an element. They can be of any data type (e.g., strings, integers).\n",
    "* **For Loop:** The `for` loop iterates through each element in the list and executes the code block for each element.\n",
    "\n",
    "### Example 2: Another List of Items"
   ]
  },
  {
   "cell_type": "code",
   "execution_count": 12,
   "metadata": {},
   "outputs": [
    {
     "name": "stdout",
     "output_type": "stream",
     "text": [
      "Apples\n",
      "Cheese\n",
      "Milk\n",
      "Bread\n",
      "Jam\n"
     ]
    }
   ],
   "source": [
    "messages = [\"Apples\", \"Cheese\", \"Milk\", \"Bread\", \"Jam\"]\n",
    "for message in messages:\n",
    "    print(message)\n"
   ]
  },
  {
   "cell_type": "markdown",
   "metadata": {},
   "source": [
    "#### Reflection:\n",
    "\n",
    "I initially had trouble understanding the part `for message in messages`. However, Copilot clarified that this means the loop will go through each item in the list. Now I understand how to use lists with loops, which makes the code more efficient.\n",
    "\n",
    "---\n",
    "\n",
    "## Dictionaries\n",
    "\n",
    "A dictionary is a collection of key-value pairs. Each key is unique and maps to a value.\n",
    "\n",
    "### Example 1: Creating a Dictionary"
   ]
  },
  {
   "cell_type": "code",
   "execution_count": 15,
   "metadata": {},
   "outputs": [],
   "source": [
    "# Creating a dictionary of greetings in different languages\n",
    "greetings = {\n",
    "    \"English\": \"Hello, world!\",\n",
    "    \"Spanish\": \"¡Hola, mundo!\",\n",
    "    \"French\": \"Bonjour, le monde!\",\n",
    "    \"Japanese\": \"こんにちは、世界！\"\n",
    "}\n"
   ]
  },
  {
   "cell_type": "markdown",
   "metadata": {},
   "source": [
    "#### Key Concepts:\n",
    "\n",
    "* **Dictionary Definition:** A dictionary is defined using curly braces `{}`. It stores data as key-value pairs.\n",
    "* **Keys and Values:** Keys are the unique identifiers (e.g., `\"English\"`, `\"Spanish\"`), and values are the associated data (e.g., `\"Hello, world!\"`).\n",
    "* **Syntax:** Each key-value pair is separated by a colon `:`, and pairs are separated by commas `,`.\n",
    "\n",
    "### Example 2: Accessing and Printing a Value from a Dictionary"
   ]
  },
  {
   "cell_type": "code",
   "execution_count": 16,
   "metadata": {},
   "outputs": [
    {
     "name": "stdout",
     "output_type": "stream",
     "text": [
      "Hello, world!\n"
     ]
    }
   ],
   "source": [
    "# Accessing the greeting in English\n",
    "print(greetings[\"English\"])\n"
   ]
  },
  {
   "cell_type": "markdown",
   "metadata": {},
   "source": [
    "#### Key Concepts:\n",
    "\n",
    "* **Accessing a Value:** Use square brackets `[]` with the key to access the corresponding value.\n",
    "* **Printing the Value:** The `print()` function displays the value retrieved from the dictionary.\n",
    "\n",
    "### Example 3: Accessing Greetings in Other Languages"
   ]
  },
  {
   "cell_type": "code",
   "execution_count": 17,
   "metadata": {},
   "outputs": [
    {
     "name": "stdout",
     "output_type": "stream",
     "text": [
      "¡Hola, mundo!\n",
      "Bonjour, le monde!\n",
      "こんにちは、世界！\n"
     ]
    }
   ],
   "source": [
    "# Accessing greetings in different languages\n",
    "print(greetings[\"Spanish\"])  # ¡Hola, mundo!\n",
    "print(greetings[\"French\"])   # Bonjour, le monde!\n",
    "print(greetings[\"Japanese\"]) # こんにちは、世界！\n"
   ]
  },
  {
   "cell_type": "markdown",
   "metadata": {},
   "source": [
    "#### Reflection:\n",
    "\n",
    "I had to double-check with Copilot to understand that `greetings` is a variable holding a dictionary. Once I understood that, I had fun experimenting with different languages. Now I feel more comfortable using dictionaries to store and retrieve data."
   ]
  },
  {
   "cell_type": "markdown",
   "metadata": {},
   "source": [
    "## Arrays"
   ]
  },
  {
   "cell_type": "markdown",
   "metadata": {},
   "source": [
    "### 1. Creating a List (Array)"
   ]
  },
  {
   "cell_type": "code",
   "execution_count": 18,
   "metadata": {},
   "outputs": [],
   "source": [
    "# Define a list (array) with multiple greetings in different languages\n",
    "greetings = [\"Hello, world!\", \"¡Hola, mundo!\", \"Bonjour, le monde!\", \"こんにちは、世界！\"]"
   ]
  },
  {
   "cell_type": "markdown",
   "metadata": {},
   "source": [
    "#### Key Concepts:\n",
    "\n",
    "* **List Definition:** A list in Python is an ordered collection of items, similar to arrays in other programming languages.\n",
    "* **Elements:** Each element in the list represents a different greeting in various languages.\n",
    "* **Syntax:** Lists are created using square brackets `[]`, with elements separated by commas `,`.\n",
    "\n",
    "### 2. Accessing and Printing an Element from the List"
   ]
  },
  {
   "cell_type": "code",
   "execution_count": 19,
   "metadata": {},
   "outputs": [
    {
     "name": "stdout",
     "output_type": "stream",
     "text": [
      "Hello, world!\n"
     ]
    }
   ],
   "source": [
    "# Access the first element in the list\n",
    "print(greetings[0])\n"
   ]
  },
  {
   "cell_type": "markdown",
   "metadata": {},
   "source": [
    "#### Key Concepts:\n",
    "\n",
    "* **Accessing an Element:** To access an element, use its index inside square brackets `[]`. Python uses 0-based indexing, meaning the first element has index 0.\n",
    "* **Printing the Element:** The `print()` function displays the element in the console.\n",
    "\n",
    "#### Reflection:\n",
    "\n",
    "At first, I was confused by the fact that `0` represents the first item in a list. I asked Copilot for clarification and received a helpful explanation. Here's the example I used to understand:"
   ]
  },
  {
   "cell_type": "code",
   "execution_count": 20,
   "metadata": {},
   "outputs": [
    {
     "name": "stdout",
     "output_type": "stream",
     "text": [
      "Bonjour, le monde!\n"
     ]
    }
   ],
   "source": [
    "# Access the third element in the list (index 2)\n",
    "print(greetings[2])\n"
   ]
  },
  {
   "cell_type": "markdown",
   "metadata": {},
   "source": [
    "This example helped me understand how list indexing works.\n",
    "\n",
    "---\n",
    "\n",
    "## Importing Libraries in Python\n",
    "\n",
    "### 1. Importing a Library"
   ]
  },
  {
   "cell_type": "code",
   "execution_count": 21,
   "metadata": {},
   "outputs": [],
   "source": [
    "# Import the datetime library to work with dates and times\n",
    "import datetime\n"
   ]
  },
  {
   "cell_type": "markdown",
   "metadata": {},
   "source": [
    "#### Key Concepts:\n",
    "\n",
    "* **Import Statement:** The `import` statement is used to include external libraries (modules) in your Python program. The `datetime` library is used here.\n",
    "* **Library:** A library is a collection of pre-written code that performs common tasks. By importing libraries, we can save time and effort while programming.\n",
    "\n",
    "### 2. Getting the Current Date and Time"
   ]
  },
  {
   "cell_type": "code",
   "execution_count": 22,
   "metadata": {},
   "outputs": [],
   "source": [
    "# Get the current date and time\n",
    "current_time = datetime.datetime.now()\n"
   ]
  },
  {
   "cell_type": "markdown",
   "metadata": {},
   "source": [
    "#### Key Concepts:\n",
    "\n",
    "* **Accessing a Class:** The `datetime` library contains a class also called `datetime`. We use `datetime.datetime` to access this class.\n",
    "* **Using the `now()` Method:** The `now()` method returns the current date and time, which is then stored in the `current_time` variable.\n",
    "\n",
    "### 3. Printing a Greeting with the Current Date and Time"
   ]
  },
  {
   "cell_type": "code",
   "execution_count": 23,
   "metadata": {},
   "outputs": [
    {
     "name": "stdout",
     "output_type": "stream",
     "text": [
      "Hello, world! The current date and time is: 2025-04-12 18:26:25.996299\n"
     ]
    }
   ],
   "source": [
    "# Combine the greeting with the current date and time\n",
    "print(\"Hello, world! The current date and time is:\", current_time)\n"
   ]
  },
  {
   "cell_type": "markdown",
   "metadata": {},
   "source": [
    "#### Key Concepts:\n",
    "\n",
    "* **Combining Strings and Variables:** The `print()` function can take multiple arguments. We combine a string (`\"Hello, world!\"`) with a variable (`current_time`) to display both in one line.\n",
    "\n",
    "#### Reflection:\n",
    "\n",
    "Initially, I struggled to understand the concept of libraries. I asked Copilot for a simpler explanation, and it compared libraries to a toolbox, where each tool represents a useful function or class. This analogy helped me understand why we import libraries — to add new tools to our program.\n",
    "\n",
    "---\n",
    "\n",
    "## Understanding `if`, `elif`, `else` Statements & Operators\n",
    "\n",
    "### Conditional Statements\n",
    "\n",
    "In Python, `if`, `elif`, and `else` statements allow us to execute different blocks of code based on certain conditions.\n",
    "\n",
    "### Example 1: Time-Based Greetings\n"
   ]
  },
  {
   "cell_type": "code",
   "execution_count": 24,
   "metadata": {},
   "outputs": [
    {
     "name": "stdout",
     "output_type": "stream",
     "text": [
      "Good evening, world!\n"
     ]
    }
   ],
   "source": [
    "# Step 1: Import the datetime library\n",
    "import datetime\n",
    "\n",
    "# Step 2: Get the current hour\n",
    "current_hour = datetime.datetime.now().hour\n",
    "\n",
    "# Step 3: Use if, elif, and else statements to print different greetings\n",
    "if current_hour < 12:\n",
    "    print(\"Good morning, world!\")\n",
    "elif current_hour < 18:\n",
    "    print(\"Good afternoon, world!\")\n",
    "else:\n",
    "    print(\"Good evening, world!\")"
   ]
  },
  {
   "cell_type": "markdown",
   "metadata": {},
   "source": [
    "#### Breakdown:\n",
    "\n",
    "**Importing a Library:**\n",
    "\n",
    "* `import datetime`: This line imports the `datetime` library, which allows us to work with dates and times. Think of it like adding a new tool to your toolbox.\n",
    "\n",
    "**Using `if`, `elif`, and `else` Statements:**\n",
    "\n",
    "* `if` statement: Checks if the current hour is less than 12. If true, it prints \"Good morning, world!\".\n",
    "* `elif` statement: Short for \"else if,\" this checks if the current hour is less than 18, only if the `if` condition was false. If true, it prints \"Good afternoon, world!\".\n",
    "* `else` statement: This block is executed if none of the previous conditions are met. In this case, it prints \"Good evening, world!\".\n",
    "\n",
    "#### Key Concepts:\n",
    "\n",
    "* **`if` statement:** Executes if the given condition is true.\n",
    "* **`elif` statement:** Evaluates if the preceding conditions were false, but the new condition is true.\n",
    "* **`else` statement:** Acts as a fallback when all previous conditions are false.\n",
    "\n",
    "### Example 2: User Input-Based Messages"
   ]
  },
  {
   "cell_type": "code",
   "execution_count": 26,
   "metadata": {},
   "outputs": [
    {
     "name": "stdout",
     "output_type": "stream",
     "text": [
      "Hello, Python!\n"
     ]
    }
   ],
   "source": [
    "# Get user input\n",
    "user_input = input(\"Enter a number between 1 and 3: \")\n",
    "\n",
    "# Convert the input to an integer\n",
    "try:\n",
    "    number = int(user_input)\n",
    "\n",
    "    # Use if, elif, and else to print different messages based on the input\n",
    "    if number == 1:\n",
    "        print(\"Hello, world!\")\n",
    "    elif number == 2:\n",
    "        print(\"Hello, Python!\")\n",
    "    elif number == 3:\n",
    "        print(\"Hello, programmer!\")\n",
    "    else:\n",
    "        print(\"Invalid input. Please enter a number between 1 and 3.\")\n",
    "\n",
    "except ValueError:\n",
    "    print(\"Invalid input. Please enter a valid integer.\")"
   ]
  },
  {
   "cell_type": "markdown",
   "metadata": {},
   "source": [
    "#### Breakdown:\n",
    "\n",
    "* **`input()` function:** This function is used to capture user input as a string.\n",
    "* **`int()` function:** Converts the input string into an integer for comparison.\n",
    "* **`if`, `elif`, and `else`:** We use these statements to check the user’s input and print the corresponding message.\n",
    "* **Handling errors:** The error occurs if the user enters something that isn't a valid integer (e.g., an empty input or non-numeric characters).\n",
    "\n",
    "#### Key Concepts:\n",
    "\n",
    "* **`if` statement:** Runs if the condition (`number == 1`) is true.\n",
    "* **`elif` statement:** Runs if the first condition is false, but the second condition (`number == 2`) is true.\n",
    "* **`else` statement:** Runs if none of the conditions are true (input outside 1-3).\n",
    "\n",
    "#### Learning Reflection:\n",
    "\n",
    "Although the code got a bit more complicated, I understood how `if`, `elif`, and `else` work in different scenarios. Copilot helped guide me through the process by offering suggestions and breaking down the code logically, which made it easier to follow and understand.\n",
    "\n",
    "---\n",
    "\n",
    "## Operators in Python\n",
    "\n",
    "### Example: Working with Strings and Numbers\n"
   ]
  },
  {
   "cell_type": "code",
   "execution_count": 27,
   "metadata": {},
   "outputs": [
    {
     "name": "stdout",
     "output_type": "stream",
     "text": [
      "Hello, world! How are you?\n",
      "Hello, world!Hello, world!Hello, world!\n",
      "The sum of 3 and 5 is: 8\n",
      "The product of 3 and 2 is: 6\n"
     ]
    }
   ],
   "source": [
    "# Define a string and a number\n",
    "greeting = \"Hello, world!\"\n",
    "number = 3\n",
    "\n",
    "# Addition of strings\n",
    "combined_greeting = greeting + \" How are you?\"\n",
    "print(combined_greeting)\n",
    "\n",
    "# Multiplication of strings\n",
    "repeated_greeting = greeting * number\n",
    "print(repeated_greeting)\n",
    "\n",
    "# Addition of numbers\n",
    "sum_result = number + 5\n",
    "print(\"The sum of\", number, \"and 5 is:\", sum_result)\n",
    "\n",
    "# Multiplication of numbers\n",
    "product_result = number * 2\n",
    "print(\"The product of\", number, \"and 2 is:\", product_result)\n"
   ]
  },
  {
   "cell_type": "markdown",
   "metadata": {},
   "source": [
    "#### Breakdown:\n",
    "\n",
    "**String Addition:**\n",
    "\n",
    "* The `+` operator is used to concatenate (join) two strings.\n",
    "* In this case, it combines `\"Hello, world!\"` with `\" How are you?\"`.\n",
    "\n",
    "**String Multiplication:**\n",
    "\n",
    "* The `*` operator repeats the string a specified number of times.\n",
    "* Here, `\"Hello, world!\"` is repeated 3 times.\n",
    "\n",
    "**Number Addition:**\n",
    "\n",
    "* The `+` operator adds two numbers together.\n",
    "* In this case, `3 + 5` results in `8`.\n",
    "\n",
    "**Number Multiplication:**\n",
    "\n",
    "* The `*` operator multiplies two numbers.\n",
    "* In this case, `3 * 2` results in `6`.\n",
    "\n",
    "#### Key Concepts:\n",
    "\n",
    "* **String Addition (`+`):** Joins two strings together.\n",
    "* **String Multiplication (`*`):** Repeats a string a certain number of times.\n",
    "* **Number Addition (`+`):** Adds two numbers together.\n",
    "* **Number Multiplication (`*`):** Multiplies two numbers.\n",
    "\n",
    "#### Learning Reflection:\n",
    "\n",
    "The operators are much easier for me to understand because they directly correspond to mathematical operations I already know. Copilot explained the logic step-by-step, making it simpler to follow. I can now perform various operations on both strings and numbers confidently.\n",
    "\n",
    "---\n",
    "\n",
    "##  Classes, Objects, and Methods\n",
    "\n",
    "In this section, we will explore the basic concepts of classes, objects, and methods in Python. We'll create a class, instantiate an object, and use methods to interact with it.\n",
    "\n",
    "\n",
    "### Example: Defining and Using a Class"
   ]
  },
  {
   "cell_type": "code",
   "execution_count": 28,
   "metadata": {},
   "outputs": [
    {
     "name": "stdout",
     "output_type": "stream",
     "text": [
      "Hello, world!\n"
     ]
    }
   ],
   "source": [
    "# Define a class named Greeting\n",
    "class Greeting:\n",
    "    # Initialize the class with a message\n",
    "    def __init__(self, message):\n",
    "        self.message = message\n",
    "    \n",
    "    # Define a method to print the message\n",
    "    def say_hello(self):\n",
    "        print(self.message)\n",
    "\n",
    "# Create an object of the Greeting class\n",
    "hello_world = Greeting(\"Hello, world!\")\n",
    "\n",
    "# Call the say_hello method on the object\n",
    "hello_world.say_hello()\n"
   ]
  },
  {
   "cell_type": "markdown",
   "metadata": {},
   "source": [
    "#### Step-by-Step Explanation\n",
    "\n",
    "1.  **Defining a Class:**\n",
    "    ```python\n",
    "    class Greeting:\n",
    "    ```\n",
    "    This line defines a new class named `Greeting`. A class serves as a blueprint for creating objects in Python.\n",
    "\n",
    "2.  **The `__init__` Method (Constructor):**\n",
    "    ```python\n",
    "    def __init__(self, message):\n",
    "    ```\n",
    "    The `__init__` method is called when a new object of the class is created. It initializes the object with data, specifically the `message` parameter.\n",
    "    ```python\n",
    "    self.message = message\n",
    "    ```\n",
    "    This line assigns the `message` passed to the constructor to an instance variable `message`. The `self` parameter refers to the object itself.\n",
    "\n",
    "3.  **Defining a Method:**\n",
    "    ```python\n",
    "    def say_hello(self):\n",
    "    ```\n",
    "    This defines a method called `say_hello`. A method is a function that belongs to an object of the class and operates on the object's attributes.\n",
    "    ```python\n",
    "    print(self.message)\n",
    "    ```\n",
    "    This line prints the value stored in the `message` attribute of the object.\n",
    "\n",
    "4.  **Creating an Object:**\n",
    "    ```python\n",
    "    hello_world = Greeting(\"Hello, world!\")\n",
    "    ```\n",
    "    This creates an object of the `Greeting` class. The string `\"Hello, world!\"` is passed to the `__init__` method, which initializes the object's `message` attribute.\n",
    "\n",
    "5.  **Calling a Method:**\n",
    "    ```python\n",
    "    hello_world.say_hello()\n",
    "    ```\n",
    "    This calls the `say_hello` method on the `hello_world` object, which prints the message stored in the object's `message` attribute.\n",
    "\n",
    "#### Key Concepts\n",
    "\n",
    "* **Class:**\n",
    "    A class is a blueprint for creating objects. It defines a set of attributes and methods that the objects will have. For example, the `Greeting` class defines a method `say_hello()` and an attribute `message`.\n",
    "* **Object:**\n",
    "    An object is an instance of a class. In the code, `hello_world` is an object of the `Greeting` class.\n",
    "* **Method:**\n",
    "    A method is a function defined inside a class. It operates on instances of the class and can access the instance’s attributes. The `say_hello` method prints the `message` attribute of the `hello_world` object.\n",
    "* **Initializer (`__init__`):**\n",
    "    The `__init__` method is a special method called the constructor. It is executed when a new object is created from the class and initializes the object with default or provided values.\n",
    "\n",
    "#### Learning Outcomes\n",
    "\n",
    "* I learned how to define a class in Python and create objects from that class.\n",
    "* I now understand how to use the `__init__` method to initialize objects with specific attributes.\n",
    "* I understand that methods are functions inside classes that can operate on objects.\n",
    "* I learned how to instantiate objects and call methods on them.\n",
    "\n",
    "#### Reflection\n",
    "\n",
    "I initially found the concept of classes and objects difficult, but after using GitHub Copilot to break it down further, I gained a better understanding. I now feel comfortable with the basic structure of object-oriented programming in Python.\n",
    "\n",
    "---\n",
    "\n",
    "## Syntax\n",
    "\n",
    "### Python Styling Guides\n",
    "\n",
    "Adhering to coding standards makes your code more readable and maintainable. The most widely recognized styling guide is **PEP 8**.\n",
    "\n",
    "#### Resources:\n",
    "\n",
    "* **PEP 8: The official Python style guide:** [https://peps.python.org/pep-0008/](https://peps.python.org/pep-0008/)\n",
    "* **The Hitchhiker's Guide to Python: Practical advice on Python code style:** [https://docs.python-guide.org/writing/style/](https://docs.python-guide.org/writing/style/)\n",
    "\n",
    "\n",
    "#### Learning Outcomes\n",
    "\n",
    "* I now understand key Python syntax rules, including comments, indentation, and function definitions.\n",
    "* I’m comfortable using basic Python data types such as strings, integers, and lists.\n",
    "* I can write and test conditional statements and loops.\n",
    "* I’ve learned how to handle errors using `try` and `except` blocks.\n",
    "* I found external resources like PEP 8 and The Hitchhiker's Guide to Python helpful for improving my code style and understanding Python's best practices.\n",
    "* **Note:** Examples of basic Python syntax (like variable assignment, `print()` statements, and fundamental operators) were not included in this section as they were covered in detail earlier in this lab book.\n",
    "\n",
    "\n",
    "\n"
   ]
  }
 ],
 "metadata": {
  "kernelspec": {
   "display_name": "Python 3",
   "language": "python",
   "name": "python3"
  },
  "language_info": {
   "codemirror_mode": {
    "name": "ipython",
    "version": 3
   },
   "file_extension": ".py",
   "mimetype": "text/x-python",
   "name": "python",
   "nbconvert_exporter": "python",
   "pygments_lexer": "ipython3",
   "version": "3.12.1"
  }
 },
 "nbformat": 4,
 "nbformat_minor": 2
}
