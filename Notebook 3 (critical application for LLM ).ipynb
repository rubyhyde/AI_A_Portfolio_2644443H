{
 "cells": [
  {
   "cell_type": "markdown",
   "id": "cd097ce3",
   "metadata": {},
   "source": [
    "## SituLang: An LLM Application for Immersive Cultural Language Learning\n",
    "\n",
    "## Introduction\n",
    "\n",
    "SituLang is an app used for creating interactive language learning experiences in which you can experience a scenario that you may encounter in real life, culturally rich scenarios, when you need to put your newly acquired language skills into practice. This strives to serve as a tool that allows users to experience the pressure and charm of having to interact with people of another culture in their non-native language. It aims to allow users to not only improve their vocabulary, grammar, and ability to think spontaneously but also their overall confidence when using a language, which is one of the most essential elements of mastering another language. This pedagogical tool will be one of many educational tools in the future that enriches teaching and knowledge but also allows the user to experience a personally developed experience, completely catered to their competency and preferences.\n",
    "This plan will outline the interaction design of this tool, highlight how creative ideas intertwined with practical benefits can have enormous benefits for the arts and humanities sector by providing cultural exchange and linguistic diversity, along with social and cultural implementation, and consider the ethical scenario of employing a tool such as SituLang.\n",
    "\n",
    "## Interaction Design\n",
    "\n",
    "How does this work?\n",
    "\n",
    "The aim of this design is to allow the language learner or user to, when they enter the app, create an account so they can monitor their progress, choose their native language, and then be presented with a range of culturally specific situations, ranging from easy levels, for example, ordering in a boulangerie in Paris, to hard, for example, being in a hospital in Milan and having to describe your condition.\n",
    "You would interact in the situation through either text or voice inputs, and the AI speaker would react to what is being said and curate the conversation to the cultural context, e.g., in a museum, and the flow of the dialogue. For example, if they don’t understand something, asking, “Could you repeat that?”, enlisting audio cues to aid your learning. Throughout, the LLM would analyse user input and give you real-time updates on your grammar levels and vocabulary, pronunciation, and cultural insights. For example, reminding the user of regionalism, for example, for a user learning Spanish, remind them that you could use x word in this situation in a city like Madrid, however, if you’re in Buenos Aires, you couldn’t, as it would be deemed rude, or they don’t use that word in Argentine Spanish, giving reminders that cultural etiquette reminders that standard language learning applications often lack.\n",
    "\n",
    "By using large language models, this moreover heightens the immersion aspect of the app, making the user feel like they are in a natural situation due to the user-friendly design of the app. This is due to the LLMs' ability to understand and generate human-like responses in the form of text or speech. This is based on patterns informed by massive text datasets, using Python as a primary tool for development. In this case, massive datasets would be required. For SituLang, this would include a diverse range of text sources to represent multiple linguistic styles and cultural contexts. Then data preparation, including cleaning and formatting, would be carried out to ensure high quality of sets. While LLMs primarily process text, the application may use tabular data to store user progress and facts, and image data for the visual elements of the experience. The LLM would then be trained on the data, and the model would be compared to others and evaluated to guarantee accurate user experience. For SituLang, the outcome would be fine-tuned data sets of language learning scenarios, using an API to interact with an LLM to send user inputs and receive responses.\n",
    "\n",
    "## Value for Learning and Inclusion\n",
    "\n",
    "One of the major downfalls in the process of acquisition of a new language is lack of motivation and engagement due to outdated teaching styles and framing learning a new language as a chore and not a new skill which allows you to communicate with new people, as stated by Gardner, who looks at how motivation is intertwined with effective language learning (Gardner, 1985). As exemplified in the design plan of this application, due to the spontaneous responses of large language models and their ability to adapt to the user, and provide culturally specific situations, this has a large possibility of increasing user engagement, fostering a deeper appreciation for diverse cultures and promoting a more inclusive learning environment.\n",
    "\n",
    "Moreover, with the evolving digital world, it’s important we mirror this in education, specifically the development of augmented learning has the ability to provide real-time error correction. The LLM can notice patterns in errors in grammar or vocabulary. This contextualised error correction is essential in language learning as stated by Schmidt, with conscious observation to be enlisted to achieve communicative competence, and by using LLMs that can identify the mistakes being made as soon as they are happening, leading to greater self-reflection (Schmidt, 1990). Additionally, being exposed to cultural situations leads to a greater acquisition of vocabulary and a richer understanding of cultural nuances, both of which are highly valued in arts and humanities disciplines.\n",
    "\n",
    "Finally, this app could provide huge benefits in terms of accessibility and reducing social anxiety, issues that can sometimes hinder engagement with language learning, particularly in arts and humanities contexts where interpersonal communication and cultural sensitivity are paramount. One of the largest factors limiting language learning is that for many it can be very social anxiety-inducing. However, by offering a situation in which the user can experience an event before it’s happened, this may reduce anxiety when it comes to travel and interactions. By using a wide range of situations, it is increasing the inclusion of diverse perspectives, aligning with Ladson-Billings’ perspective on developing education to be culturally relevant (Ladson-Billings, 1995).\n",
    "\n",
    "## Social and Cultural Implications\n",
    "\n",
    "On the other hand, in the process of developing SituLang, there are serious considerations and regulations that will have to be put into place. A number of studies have been carried out on AI ethics. More specifically, Kaggle's intro to AI Ethics, in the book, Cook identifies the risk of historical data in perpetuating bias in training data. (Cook, 2025). Especially with an app such as SituLang, that’s aiming to champion inclusivity and language, it’s essential to proactively identify this risk and mitigate these risks, so as not to risk oversimplification or stereotyping of culture, which is essential to achieve the aim of promoting genuine understanding and respect for cultural heritage – a core tenet of the arts and humanities. This is one of many examples of how critical thinking is required so as not to hinder the inclusion benefits of the app but promote these goals.\n",
    "\n",
    "Moreover, it’s essential to acknowledge that while training large language models can be a complicated and data-heavy process, it’s of utmost importance that we maintain transparency between the process and the users of the app, with regards to AI’s roles and potential limitations and real-world effects. Maintaining this clear communication can result in higher user trust. To adhere to rules on transparency, the app will comply with the EU AI Act’s established framework, implemented as a way of safeguarding data, human rights, access to data, and user protection from inappropriate content on the app (European Union, 2024). By maintaining the transparency throughout the data training process, this enables higher customer trust and a decreased risk of introducing unwanted data.\n",
    "Finally, one must maintain awareness of social implications of AI and the worry of job replacement, ensuring that this app is not intended to replace the crucial role of human language teachers, particularly those who bring invaluable cultural insights and pedagogical expertise, but to act as a supplementary tool and an accessible education to those who may not meet the economic requirements for the privilege of learning a new language. This aligns with Giannakos’s argument that although there are obvious benefits with using AI for education, we must acknowledge the potential disruptions to the traditional education system that may come with these technologies, including job displacement. Therefore, SituLang will prioritise offering a nuanced experience of cultural immersion rather than theoretical teaching, acting as an optional, empowering extracurricular activity rather than a replacement for language teachers’ fundamental role in society (Giannakos et al. (2024).\n",
    "\n",
    "## Conclusion\n",
    "\n",
    "To conclude, through the use of LLM technology, SituLang will provide the user a unique experience of a cultural interaction, making the user employ language and communication skills to adapt to the changing environment based on their inputs and have a constructive conversation with a persona in a specific situation. It has huge potential to increase engagement, learning ability, and inclusion, all while fostering a deeper appreciation for the richness and complexity of human cultures. However, after in-depth critical evaluation of the social and cultural implications, it’s essential this is done in a responsible and fair way so as to avoid any negative consequence. Prioritising unbiased data sets, transparency, and being formatted as a supplementary tool, this LLM design has the potential to reap huge benefits for the language learning sector and contribute to a more interconnected and culturally aware global society.\n",
    "\n",
    "## Reference List\n",
    "\n",
    "Cook, A.B. (2025), Identifying Bias in AI, Kaggle. Available at: https://www.kaggle.com/code/alexisbcook/identifying-bias-in-ai (Accessed: 4th April 2025).\n",
    "\n",
    "European Union (2024), Regulation (EU) 2024/..., Artificial Intelligence Act. Available at: https://artificialintelligenceact.eu/ (Accessed: 4th April 2025).\n",
    "\n",
    "Gardner, R. C. (1985). Social psychology and second language learning: The role of attitudes and motivation. Edward Arnold.\n",
    "\n",
    "Giannakos, M., Azevedo, R., Brusilovsky, P., Cukurova, M., Dimitriadis, Y., Hernandez-Leo, D., Järvelä, S., Mavrikis, M., & Rienties, B. (2024). The Promise and Challenges of Generative AI in Education. Behaviour & Information Technology, September, 1–27. doi:10.1080/0144929X.2024.2394886.   \n",
    "\n",
    "Ladson-Billings, G. (1995). Toward a theory of culturally relevant pedagogy. American Educational Research Journal, 32(3), 465-491.   \n",
    "Schmidt, R. (1990). The role of consciousness in second language learning. Applied Linguistics, 11(2), 129-158.\n"
   ]
  }
 ],
 "metadata": {
  "language_info": {
   "name": "python"
  }
 },
 "nbformat": 4,
 "nbformat_minor": 5
}
