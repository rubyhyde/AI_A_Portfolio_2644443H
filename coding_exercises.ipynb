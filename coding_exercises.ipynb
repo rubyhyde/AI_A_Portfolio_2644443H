{
 "cells": [
  {
   "cell_type": "markdown",
   "metadata": {},
   "source": [
    "# Learning basic programming concepts"
   ]
  },
  {
   "cell_type": "markdown",
   "metadata": {},
   "source": [
    "1. Learn Python\n",
    "2. Use Copilot to help me"
   ]
  },
  {
   "cell_type": "markdown",
   "metadata": {},
   "source": [
    "# Hello world!"
   ]
  },
  {
   "cell_type": "markdown",
   "metadata": {},
   "source": [
    "The following code was created as my first attempt at\n",
    "programming in this course. It is meant to help me understand how to write and\n",
    "run code in GitHub Codespaces"
   ]
  },
  {
   "cell_type": "code",
   "execution_count": 2,
   "metadata": {},
   "outputs": [
    {
     "name": "stdout",
     "output_type": "stream",
     "text": [
      "Hello, World!\n"
     ]
    }
   ],
   "source": [
    "print(\"Hello, World!\")"
   ]
  },
  {
   "cell_type": "markdown",
   "metadata": {},
   "source": [
    "# Printing"
   ]
  },
  {
   "cell_type": "markdown",
   "metadata": {},
   "source": [
    "“Could you suggest a python\n",
    "code for ‘Hello, world!’to demonstrate the concept of printing to a\n",
    "complete beginner in programming? Please explain the code step-by-step\n",
    "highlighting any key aspects.”"
   ]
  },
  {
   "cell_type": "markdown",
   "metadata": {},
   "source": [
    "Step-by-Step Explanation:\n",
    "print: This is a built-in Python function used to display output. Functions in Python are blocks of code that perform a specific task. The print function is one of the most commonly used functions, especially for beginners.\n",
    "\n",
    "(\"Hello, world!\"): The text inside the parentheses is called a string. In Python, strings are sequences of characters enclosed in quotes. Here, \"Hello, world!\" is the string we want to print.\n",
    "\n",
    "Quotes: In Python, you can use either single quotes (') or double quotes (\") to define a string. Both work the same way, but it's important to be consistent. In this example, we used double quotes.\n",
    "\n",
    "Parentheses (): These are used to pass arguments to functions. In this case, the string \"Hello, world!\" is the argument passed to the print function.\n",
    "\n",
    "Key Aspects:\n",
    "Indentation: Python uses indentation to define blocks of code. However, for a single line of code like this, indentation isn't necessary. As you progress, you'll see how indentation is crucial for defining loops, functions, and other structures.\n",
    "\n",
    "Syntax: Python's syntax is designed to be readable and straightforward, making it an excellent choice for beginners.\n",
    "\n",
    "Execution: When you run this code, Python interprets it and executes the print function, which outputs the string to the console."
   ]
  },
  {
   "cell_type": "markdown",
   "metadata": {},
   "source": [
    "## Basic Arithmetic Operations"
   ]
  },
  {
   "cell_type": "markdown",
   "metadata": {},
   "source": [
    "This code performs basic arithmetic operations and prints the results:"
   ]
  },
  {
   "cell_type": "code",
   "execution_count": 3,
   "metadata": {},
   "outputs": [
    {
     "name": "stdout",
     "output_type": "stream",
     "text": [
      "5 + 3 = 8\n",
      "10 - 4 = 6\n",
      "7 * 6 = 42\n",
      "8 / 2 = 4.0\n"
     ]
    }
   ],
   "source": [
    "# Addition\n",
    "print(\"5 + 3 =\", 5 + 3)\n",
    "\n",
    "# Subtraction\n",
    "print(\"10 - 4 =\", 10 - 4)\n",
    "\n",
    "# Multiplication\n",
    "print(\"7 * 6 =\", 7 * 6)\n",
    "\n",
    "# Division\n",
    "print(\"8 / 2 =\", 8 / 2)"
   ]
  }
 ],
 "metadata": {
  "kernelspec": {
   "display_name": "Python 3",
   "language": "python",
   "name": "python3"
  },
  "language_info": {
   "codemirror_mode": {
    "name": "ipython",
    "version": 3
   },
   "file_extension": ".py",
   "mimetype": "text/x-python",
   "name": "python",
   "nbconvert_exporter": "python",
   "pygments_lexer": "ipython3",
   "version": "3.12.1"
  }
 },
 "nbformat": 4,
 "nbformat_minor": 2
}
