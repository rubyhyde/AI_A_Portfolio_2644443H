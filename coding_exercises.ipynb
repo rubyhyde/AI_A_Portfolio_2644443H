{
 "cells": [
  {
   "cell_type": "markdown",
   "metadata": {},
   "source": [
    "# Learning basic programming concepts"
   ]
  },
  {
   "cell_type": "markdown",
   "metadata": {},
   "source": [
    "1. Learn Python\n",
    "2. Use Copilot to help me"
   ]
  },
  {
   "cell_type": "markdown",
   "metadata": {},
   "source": [
    "# Hello world!"
   ]
  },
  {
   "cell_type": "markdown",
   "metadata": {},
   "source": [
    "The following code was created as my first attempt at\n",
    "programming in this course. It is meant to help me understand how to write and\n",
    "run code in GitHub Codespaces"
   ]
  },
  {
   "cell_type": "code",
   "execution_count": 131,
   "metadata": {},
   "outputs": [
    {
     "name": "stdout",
     "output_type": "stream",
     "text": [
      "Hello, World!\n"
     ]
    }
   ],
   "source": [
    "print(\"Hello, World!\")"
   ]
  },
  {
   "cell_type": "markdown",
   "metadata": {},
   "source": [
    "# Printing"
   ]
  },
  {
   "cell_type": "markdown",
   "metadata": {},
   "source": [
    "“Could you suggest a python\n",
    "code for ‘Hello, world!’to demonstrate the concept of printing to a\n",
    "complete beginner in programming? Please explain the code step-by-step\n",
    "highlighting any key aspects.”"
   ]
  },
  {
   "cell_type": "markdown",
   "metadata": {},
   "source": [
    "Step-by-Step Explanation:\n",
    "print: This is a built-in Python function used to display output. Functions in Python are blocks of code that perform a specific task. The print function is one of the most commonly used functions, especially for beginners.\n",
    "\n",
    "(\"Hello, world!\"): The text inside the parentheses is called a string. In Python, strings are sequences of characters enclosed in quotes. Here, \"Hello, world!\" is the string we want to print.\n",
    "\n",
    "Quotes: In Python, you can use either single quotes (') or double quotes (\") to define a string. Both work the same way, but it's important to be consistent. In this example, we used double quotes.\n",
    "\n",
    "Parentheses (): These are used to pass arguments to functions. In this case, the string \"Hello, world!\" is the argument passed to the print function.\n",
    "\n",
    "Key Aspects:\n",
    "Indentation: Python uses indentation to define blocks of code. However, for a single line of code like this, indentation isn't necessary. As you progress, you'll see how indentation is crucial for defining loops, functions, and other structures.\n",
    "\n",
    "Syntax: Python's syntax is designed to be readable and straightforward, making it an excellent choice for beginners.\n",
    "\n",
    "Execution: When you run this code, Python interprets it and executes the print function, which outputs the string to the console."
   ]
  },
  {
   "cell_type": "markdown",
   "metadata": {},
   "source": [
    "## Basic Arithmetic Operations"
   ]
  },
  {
   "cell_type": "markdown",
   "metadata": {},
   "source": [
    "This code performs basic arithmetic operations and prints the results:"
   ]
  },
  {
   "cell_type": "code",
   "execution_count": 132,
   "metadata": {},
   "outputs": [
    {
     "name": "stdout",
     "output_type": "stream",
     "text": [
      "5 + 3 = 8\n",
      "10 - 4 = 6\n",
      "7 * 6 = 42\n",
      "8 / 2 = 4.0\n"
     ]
    }
   ],
   "source": [
    "# Addition\n",
    "print(\"5 + 3 =\", 5 + 3)\n",
    "\n",
    "# Subtraction\n",
    "print(\"10 - 4 =\", 10 - 4)\n",
    "\n",
    "# Multiplication\n",
    "print(\"7 * 6 =\", 7 * 6)\n",
    "\n",
    "# Division\n",
    "print(\"8 / 2 =\", 8 / 2)"
   ]
  },
  {
   "cell_type": "markdown",
   "metadata": {},
   "source": [
    "Learning Outcomes: I have learnt how to write pyhton in a way that carries out arithemitc operations, I find this relatively easy to understand as it makes logical sense. I now know that the +, - and = are the same as we're used to in basic maths equatiosn however the x is a *."
   ]
  },
  {
   "cell_type": "markdown",
   "metadata": {},
   "source": [
    "## Variables"
   ]
  },
  {
   "cell_type": "code",
   "execution_count": 133,
   "metadata": {},
   "outputs": [],
   "source": [
    "# This is a comment. Comments are ignored by the computer.\n",
    "# They are used to explain the code to humans."
   ]
  },
  {
   "cell_type": "code",
   "execution_count": 134,
   "metadata": {},
   "outputs": [],
   "source": [
    "message = \"Hello, world!\""
   ]
  },
  {
   "cell_type": "code",
   "execution_count": 135,
   "metadata": {},
   "outputs": [
    {
     "name": "stdout",
     "output_type": "stream",
     "text": [
      "Hello, world!\n"
     ]
    }
   ],
   "source": [
    "print(message)"
   ]
  },
  {
   "cell_type": "markdown",
   "metadata": {},
   "source": [
    "Key Aspects:\n",
    "Variables: Variables store data that can be used and manipulated throughout the program. They make the code more flexible and easier to understand.\n",
    "\n",
    "Assignment: The = sign assigns a value to a variable.\n",
    "\n",
    "Functions: Functions like print() perform specific \n",
    "tasks. In this case, print() displays output."
   ]
  },
  {
   "cell_type": "code",
   "execution_count": 136,
   "metadata": {},
   "outputs": [
    {
     "name": "stdout",
     "output_type": "stream",
     "text": [
      "This is my own prompt\n"
     ]
    }
   ],
   "source": [
    "# This is to remind me that this is my own prompt. \n",
    "message = \"This is my own prompt\"\n",
    "print(message)\n"
   ]
  },
  {
   "cell_type": "markdown",
   "metadata": {},
   "source": [
    "## Functions"
   ]
  },
  {
   "cell_type": "code",
   "execution_count": 137,
   "metadata": {},
   "outputs": [
    {
     "name": "stdout",
     "output_type": "stream",
     "text": [
      "Hello, world!\n"
     ]
    }
   ],
   "source": [
    "# This is a comment. Comments are ignored by the computer.\n",
    "# They are used to explain the code to humans.\n",
    "\n",
    "# We define a function called 'greet'. You can name your function anything you like.\n",
    "def greet():\n",
    "    # Inside the function, we create a variable called 'message' and store the text \"Hello, world!\" in it.\n",
    "    message = \"Hello, world!\"\n",
    "    # We use the print() function to display the value stored in the 'message' variable.\n",
    "    print(message)\n",
    "\n",
    "# We call the 'greet' function to execute the code inside it.\n",
    "greet()"
   ]
  },
  {
   "cell_type": "markdown",
   "metadata": {},
   "source": [
    "Key Aspects:\n",
    "\n",
    "Functions: Functions are reusable blocks of code that perform specific tasks. They help organize and modularize code.\n",
    "\n",
    "Function Definition: The def keyword is used to define a function, followed by the function name and parentheses.\n",
    "\n",
    "Function Call: To execute a function, you call it by its name followed by parentheses."
   ]
  },
  {
   "cell_type": "code",
   "execution_count": 138,
   "metadata": {},
   "outputs": [
    {
     "name": "stdout",
     "output_type": "stream",
     "text": [
      "I like using functions!\n"
     ]
    }
   ],
   "source": [
    "def opinion():\n",
    "    message = \"I like using functions!\"\n",
    "    print(message)\n",
    "opinion()"
   ]
  },
  {
   "cell_type": "markdown",
   "metadata": {},
   "source": [
    "## Loops"
   ]
  },
  {
   "cell_type": "code",
   "execution_count": 139,
   "metadata": {},
   "outputs": [
    {
     "name": "stdout",
     "output_type": "stream",
     "text": [
      "Hello, world!\n",
      "Hello, world!\n",
      "Hello, world!\n",
      "Hello, world!\n",
      "Hello, world!\n"
     ]
    }
   ],
   "source": [
    "# This is a comment. Comments are ignored by the computer.\n",
    "# They are used to explain the code to humans.\n",
    "\n",
    "# We use a for loop to repeat the same action multiple times.\n",
    "for i in range(5):\n",
    "    # Inside the loop, we create a variable called 'message' and store the text \"Hello, world!\" in it.\n",
    "    message = \"Hello, world!\"\n",
    "    # We use the print() function to display the value stored in the 'message' variable.\n",
    "    print(message)"
   ]
  },
  {
   "cell_type": "markdown",
   "metadata": {},
   "source": [
    "Key Aspects:\n",
    "Loops: Loops allow you to repeat a block of code multiple times. They are useful for tasks that require repetition.\n",
    "\n",
    "For Loop: The for loop iterates over a sequence of values, executing the loop body for each value.\n",
    "\n",
    "Range Function: The range() function generates a sequence of numbers, which the loop iterates over."
   ]
  },
  {
   "cell_type": "code",
   "execution_count": 140,
   "metadata": {},
   "outputs": [
    {
     "name": "stdout",
     "output_type": "stream",
     "text": [
      "I made this using a loop!\n",
      "I made this using a loop!\n",
      "I made this using a loop!\n",
      "I made this using a loop!\n",
      "I made this using a loop!\n"
     ]
    }
   ],
   "source": [
    "for i in range(5):\n",
    "    message = \"I made this using a loop!\"\n",
    "    print(message)"
   ]
  },
  {
   "cell_type": "markdown",
   "metadata": {},
   "source": [
    "## Lists"
   ]
  },
  {
   "cell_type": "code",
   "execution_count": 141,
   "metadata": {},
   "outputs": [
    {
     "name": "stdout",
     "output_type": "stream",
     "text": [
      "Hello, world!\n",
      "Hi there!\n",
      "Greetings!\n",
      "Welcome!\n",
      "Good day!\n"
     ]
    }
   ],
   "source": [
    "# This is a comment. Comments are ignored by the computer.\n",
    "# They are used to explain the code to humans.\n",
    "\n",
    "# We create a list called 'messages' that contains multiple strings.\n",
    "messages = [\"Hello, world!\", \"Hi there!\", \"Greetings!\", \"Welcome!\", \"Good day!\"]\n",
    "\n",
    "# We use a for loop to go through each item in the 'messages' list.\n",
    "for message in messages:\n",
    "    # We use the print() function to display each message.\n",
    "    print(message)"
   ]
  },
  {
   "cell_type": "markdown",
   "metadata": {},
   "source": [
    "Key Aspects:\n",
    "\n",
    "Lists: Lists are used to store multiple items in a single variable. They are ordered and changeable.\n",
    "\n",
    "List Elements: The items in a list are called elements. They can be of any data type.\n",
    "\n",
    "For Loop: The for loop iterates over each element in the list, executing the loop body for each element."
   ]
  },
  {
   "cell_type": "code",
   "execution_count": 142,
   "metadata": {},
   "outputs": [
    {
     "name": "stdout",
     "output_type": "stream",
     "text": [
      "Apples\n",
      "Cheese\n",
      "Milk\n",
      "Bread\n",
      "Jam\n"
     ]
    }
   ],
   "source": [
    "messages = [\"Apples\", \"Cheese\", \"Milk\", \"Bread\", \"Jam\"]\n",
    "for message in messages:\n",
    "    print(message)"
   ]
  },
  {
   "cell_type": "markdown",
   "metadata": {},
   "source": [
    "Page 15"
   ]
  }
 ],
 "metadata": {
  "kernelspec": {
   "display_name": "Python 3",
   "language": "python",
   "name": "python3"
  },
  "language_info": {
   "codemirror_mode": {
    "name": "ipython",
    "version": 3
   },
   "file_extension": ".py",
   "mimetype": "text/x-python",
   "name": "python",
   "nbconvert_exporter": "python",
   "pygments_lexer": "ipython3",
   "version": "3.12.1"
  }
 },
 "nbformat": 4,
 "nbformat_minor": 2
}
