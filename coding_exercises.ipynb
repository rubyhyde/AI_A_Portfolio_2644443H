{
 "cells": [
  {
   "cell_type": "markdown",
   "metadata": {},
   "source": [
    "# Learning basic programming concepts"
   ]
  },
  {
   "cell_type": "markdown",
   "metadata": {},
   "source": [
    "1. Learn Python\n",
    "2. Use Copilot to help me"
   ]
  },
  {
   "cell_type": "markdown",
   "metadata": {},
   "source": [
    "# Hello world!"
   ]
  },
  {
   "cell_type": "markdown",
   "metadata": {},
   "source": [
    "The following code was created as my first attempt at\n",
    "programming in this course. It is meant to help me understand how to write and\n",
    "run code in GitHub Codespaces"
   ]
  },
  {
   "cell_type": "code",
   "execution_count": 158,
   "metadata": {},
   "outputs": [
    {
     "name": "stdout",
     "output_type": "stream",
     "text": [
      "Hello, World!\n"
     ]
    }
   ],
   "source": [
    "print(\"Hello, World!\")"
   ]
  },
  {
   "cell_type": "markdown",
   "metadata": {},
   "source": [
    "# Printing"
   ]
  },
  {
   "cell_type": "markdown",
   "metadata": {},
   "source": [
    "“Could you suggest a python\n",
    "code for ‘Hello, world!’to demonstrate the concept of printing to a\n",
    "complete beginner in programming? Please explain the code step-by-step\n",
    "highlighting any key aspects.”"
   ]
  },
  {
   "cell_type": "markdown",
   "metadata": {},
   "source": [
    "Step-by-Step Explanation:\n",
    "print: This is a built-in Python function used to display output. Functions in Python are blocks of code that perform a specific task. The print function is one of the most commonly used functions, especially for beginners.\n",
    "\n",
    "(\"Hello, world!\"): The text inside the parentheses is called a string. In Python, strings are sequences of characters enclosed in quotes. Here, \"Hello, world!\" is the string we want to print.\n",
    "\n",
    "Quotes: In Python, you can use either single quotes (') or double quotes (\") to define a string. Both work the same way, but it's important to be consistent. In this example, we used double quotes.\n",
    "\n",
    "Parentheses (): These are used to pass arguments to functions. In this case, the string \"Hello, world!\" is the argument passed to the print function.\n",
    "\n",
    "Key Aspects:\n",
    "Indentation: Python uses indentation to define blocks of code. However, for a single line of code like this, indentation isn't necessary. As you progress, you'll see how indentation is crucial for defining loops, functions, and other structures.\n",
    "\n",
    "Syntax: Python's syntax is designed to be readable and straightforward, making it an excellent choice for beginners.\n",
    "\n",
    "Execution: When you run this code, Python interprets it and executes the print function, which outputs the string to the console."
   ]
  },
  {
   "cell_type": "markdown",
   "metadata": {},
   "source": [
    "## Basic Arithmetic Operations"
   ]
  },
  {
   "cell_type": "markdown",
   "metadata": {},
   "source": [
    "This code performs basic arithmetic operations and prints the results:"
   ]
  },
  {
   "cell_type": "code",
   "execution_count": 159,
   "metadata": {},
   "outputs": [
    {
     "name": "stdout",
     "output_type": "stream",
     "text": [
      "5 + 3 = 8\n",
      "10 - 4 = 6\n",
      "7 * 6 = 42\n",
      "8 / 2 = 4.0\n"
     ]
    }
   ],
   "source": [
    "# Addition\n",
    "print(\"5 + 3 =\", 5 + 3)\n",
    "\n",
    "# Subtraction\n",
    "print(\"10 - 4 =\", 10 - 4)\n",
    "\n",
    "# Multiplication\n",
    "print(\"7 * 6 =\", 7 * 6)\n",
    "\n",
    "# Division\n",
    "print(\"8 / 2 =\", 8 / 2)"
   ]
  },
  {
   "cell_type": "markdown",
   "metadata": {},
   "source": [
    "Learning Outcomes: I have learnt how to write pyhton in a way that carries out arithemitc operations, I find this relatively easy to understand as it makes logical sense. I now know that the +, - and = are the same as we're used to in basic maths equatiosn however the x is a *."
   ]
  },
  {
   "cell_type": "markdown",
   "metadata": {},
   "source": [
    "## Variables"
   ]
  },
  {
   "cell_type": "code",
   "execution_count": 160,
   "metadata": {},
   "outputs": [],
   "source": [
    "# This is a comment. Comments are ignored by the computer.\n",
    "# They are used to explain the code to humans."
   ]
  },
  {
   "cell_type": "code",
   "execution_count": 161,
   "metadata": {},
   "outputs": [],
   "source": [
    "message = \"Hello, world!\""
   ]
  },
  {
   "cell_type": "code",
   "execution_count": 162,
   "metadata": {},
   "outputs": [
    {
     "name": "stdout",
     "output_type": "stream",
     "text": [
      "Hello, world!\n"
     ]
    }
   ],
   "source": [
    "print(message)"
   ]
  },
  {
   "cell_type": "markdown",
   "metadata": {},
   "source": [
    "Key Aspects:\n",
    "Variables: Variables store data that can be used and manipulated throughout the program. They make the code more flexible and easier to understand.\n",
    "\n",
    "Assignment: The = sign assigns a value to a variable.\n",
    "\n",
    "Functions: Functions like print() perform specific \n",
    "tasks. In this case, print() displays output."
   ]
  },
  {
   "cell_type": "code",
   "execution_count": 163,
   "metadata": {},
   "outputs": [
    {
     "name": "stdout",
     "output_type": "stream",
     "text": [
      "This is my own prompt\n"
     ]
    }
   ],
   "source": [
    "# This is to remind me that this is my own prompt. \n",
    "message = \"This is my own prompt\"\n",
    "print(message)\n"
   ]
  },
  {
   "cell_type": "markdown",
   "metadata": {},
   "source": [
    "Learning Outcomes: I had to get copilot to explain this in more detail as I initially didn't understand."
   ]
  },
  {
   "cell_type": "markdown",
   "metadata": {},
   "source": [
    "## Functions"
   ]
  },
  {
   "cell_type": "code",
   "execution_count": 164,
   "metadata": {},
   "outputs": [
    {
     "name": "stdout",
     "output_type": "stream",
     "text": [
      "Hello, world!\n"
     ]
    }
   ],
   "source": [
    "# This is a comment. Comments are ignored by the computer.\n",
    "# They are used to explain the code to humans.\n",
    "\n",
    "# We define a function called 'greet'. You can name your function anything you like.\n",
    "def greet():\n",
    "    # Inside the function, we create a variable called 'message' and store the text \"Hello, world!\" in it.\n",
    "    message = \"Hello, world!\"\n",
    "    # We use the print() function to display the value stored in the 'message' variable.\n",
    "    print(message)\n",
    "\n",
    "# We call the 'greet' function to execute the code inside it.\n",
    "greet()"
   ]
  },
  {
   "cell_type": "markdown",
   "metadata": {},
   "source": [
    "Key Aspects:\n",
    "\n",
    "Functions: Functions are reusable blocks of code that perform specific tasks. They help organize and modularize code.\n",
    "\n",
    "Function Definition: The def keyword is used to define a function, followed by the function name and parentheses.\n",
    "\n",
    "Function Call: To execute a function, you call it by its name followed by parentheses."
   ]
  },
  {
   "cell_type": "code",
   "execution_count": 165,
   "metadata": {},
   "outputs": [
    {
     "name": "stdout",
     "output_type": "stream",
     "text": [
      "I like using functions!\n"
     ]
    }
   ],
   "source": [
    "def opinion():\n",
    "    message = \"I like using functions!\"\n",
    "    print(message)\n",
    "opinion()"
   ]
  },
  {
   "cell_type": "markdown",
   "metadata": {},
   "source": [
    "Learning Outcomes: I'm enjoying using copilot to help me learn python as when I'm uncertain about concepts I get it to explain it to me in a clearer way and it will give me more examples. I now undertsand how to use functions."
   ]
  },
  {
   "cell_type": "markdown",
   "metadata": {},
   "source": [
    "## Loops"
   ]
  },
  {
   "cell_type": "code",
   "execution_count": 166,
   "metadata": {},
   "outputs": [
    {
     "name": "stdout",
     "output_type": "stream",
     "text": [
      "Hello, world!\n",
      "Hello, world!\n",
      "Hello, world!\n",
      "Hello, world!\n",
      "Hello, world!\n"
     ]
    }
   ],
   "source": [
    "# This is a comment. Comments are ignored by the computer.\n",
    "# They are used to explain the code to humans.\n",
    "\n",
    "# We use a for loop to repeat the same action multiple times.\n",
    "for i in range(5):\n",
    "    # Inside the loop, we create a variable called 'message' and store the text \"Hello, world!\" in it.\n",
    "    message = \"Hello, world!\"\n",
    "    # We use the print() function to display the value stored in the 'message' variable.\n",
    "    print(message)"
   ]
  },
  {
   "cell_type": "markdown",
   "metadata": {},
   "source": [
    "Key Aspects:\n",
    "Loops: Loops allow you to repeat a block of code multiple times. They are useful for tasks that require repetition.\n",
    "\n",
    "For Loop: The for loop iterates over a sequence of values, executing the loop body for each value.\n",
    "\n",
    "Range Function: The range() function generates a sequence of numbers, which the loop iterates over."
   ]
  },
  {
   "cell_type": "code",
   "execution_count": 167,
   "metadata": {},
   "outputs": [
    {
     "name": "stdout",
     "output_type": "stream",
     "text": [
      "I made this using a loop!\n",
      "I made this using a loop!\n",
      "I made this using a loop!\n",
      "I made this using a loop!\n",
      "I made this using a loop!\n"
     ]
    }
   ],
   "source": [
    "for i in range(5):\n",
    "    message = \"I made this using a loop!\"\n",
    "    print(message)"
   ]
  },
  {
   "cell_type": "markdown",
   "metadata": {},
   "source": [
    "Learning Outcome: This is beginning to make more logical sense for me as I can see how it multiplies the variable, print. Copilot explains this clearly."
   ]
  },
  {
   "cell_type": "markdown",
   "metadata": {},
   "source": [
    "## Lists"
   ]
  },
  {
   "cell_type": "code",
   "execution_count": 168,
   "metadata": {},
   "outputs": [
    {
     "name": "stdout",
     "output_type": "stream",
     "text": [
      "Hello, world!\n",
      "Hi there!\n",
      "Greetings!\n",
      "Welcome!\n",
      "Good day!\n"
     ]
    }
   ],
   "source": [
    "# This is a comment. Comments are ignored by the computer.\n",
    "# They are used to explain the code to humans.\n",
    "\n",
    "# We create a list called 'messages' that contains multiple strings.\n",
    "messages = [\"Hello, world!\", \"Hi there!\", \"Greetings!\", \"Welcome!\", \"Good day!\"]\n",
    "\n",
    "# We use a for loop to go through each item in the 'messages' list.\n",
    "for message in messages:\n",
    "    # We use the print() function to display each message.\n",
    "    print(message)"
   ]
  },
  {
   "cell_type": "markdown",
   "metadata": {},
   "source": [
    "Key Aspects:\n",
    "\n",
    "Lists: Lists are used to store multiple items in a single variable. They are ordered and changeable.\n",
    "\n",
    "List Elements: The items in a list are called elements. They can be of any data type.\n",
    "\n",
    "For Loop: The for loop iterates over each element in the list, executing the loop body for each element."
   ]
  },
  {
   "cell_type": "code",
   "execution_count": 169,
   "metadata": {},
   "outputs": [
    {
     "name": "stdout",
     "output_type": "stream",
     "text": [
      "Apples\n",
      "Cheese\n",
      "Milk\n",
      "Bread\n",
      "Jam\n"
     ]
    }
   ],
   "source": [
    "messages = [\"Apples\", \"Cheese\", \"Milk\", \"Bread\", \"Jam\"]\n",
    "for message in messages:\n",
    "    print(message)"
   ]
  },
  {
   "cell_type": "markdown",
   "metadata": {},
   "source": [
    "Learning Outcomes: I specifically didn't understand the bit 'for message in messages', which made me go back to ask copilot and this was explained but I often think copilot sometimes struggles to identiy what the user doesn't undertsand about its explanations."
   ]
  },
  {
   "cell_type": "markdown",
   "metadata": {},
   "source": [
    "## Dictionaries"
   ]
  },
  {
   "cell_type": "markdown",
   "metadata": {},
   "source": [
    "### 1. Creating a Dictionary:"
   ]
  },
  {
   "cell_type": "code",
   "execution_count": 170,
   "metadata": {},
   "outputs": [],
   "source": [
    "greetings = {\n",
    "    \"English\": \"Hello, world!\",\n",
    "    \"Spanish\": \"¡Hola, mundo!\",\n",
    "    \"French\": \"Bonjour, le monde!\",\n",
    "    \"Japanese\": \"こんにちは、世界！\"\n",
    "}"
   ]
  },
  {
   "cell_type": "markdown",
   "metadata": {},
   "source": [
    "Key Aspects:\n",
    "\n",
    "Dictionary Definition: A dictionary in Python is a collection of key-value pairs. Each key is unique, and it maps to a value.\n",
    "\n",
    "Keys and Values: In this example, the keys are the names of languages (\"English\", \"Spanish\", \"French\", \"Japanese\"), and the values are the corresponding greetings in those languages.\n",
    "\n",
    "Syntax: Dictionaries are defined using curly braces {}. Each key-value pair is separated by a colon :, and pairs are separated by commas ,."
   ]
  },
  {
   "cell_type": "markdown",
   "metadata": {},
   "source": [
    "### 1. Accessing and Printing a Value:"
   ]
  },
  {
   "cell_type": "code",
   "execution_count": 171,
   "metadata": {},
   "outputs": [
    {
     "name": "stdout",
     "output_type": "stream",
     "text": [
      "Hello, world!\n"
     ]
    }
   ],
   "source": [
    "print(greetings[\"English\"])"
   ]
  },
  {
   "cell_type": "markdown",
   "metadata": {},
   "source": [
    "Key Aspects: \n",
    "\n",
    "Accessing a Value: To access a value in the dictionary, you use the key inside square brackets []. Here, greetings[\"English\"] retrieves the value associated with the key \"English\", which is \"Hello, world!\".\n",
    "\n",
    "Printing the Value: The print() function is used to display the value on the screen."
   ]
  },
  {
   "cell_type": "markdown",
   "metadata": {},
   "source": [
    "Learning Outcomes: I understand it to a certain extent, but I had to confirm with copilot if greetings was a variable. It confirmed that it was as it represents a value. I then was intrigued to try out the different langauges, so I've done that below."
   ]
  },
  {
   "cell_type": "code",
   "execution_count": 172,
   "metadata": {},
   "outputs": [
    {
     "name": "stdout",
     "output_type": "stream",
     "text": [
      "¡Hola, mundo!\n"
     ]
    }
   ],
   "source": [
    "print(greetings[\"Spanish\"])"
   ]
  },
  {
   "cell_type": "markdown",
   "metadata": {},
   "source": [
    "## Arrays"
   ]
  },
  {
   "cell_type": "markdown",
   "metadata": {},
   "source": [
    "### 1. Creating a List (Array)"
   ]
  },
  {
   "cell_type": "code",
   "execution_count": 173,
   "metadata": {},
   "outputs": [],
   "source": [
    "greetings = [\"Hello, world!\", \"¡Hola, mundo!\", \"Bonjour, le monde!\", \"こんにちは、世界！\"]"
   ]
  },
  {
   "cell_type": "markdown",
   "metadata": {},
   "source": [
    "Key Aspects: \n",
    "\n",
    "List Definition: A list in Python is an ordered collection of items. Lists are similar to arrays in other programming languages.\n",
    "\n",
    "Elements: In this example, the list contains four elements, each being a greeting in a different language.\n",
    "\n",
    "Syntax: Lists are defined using square brackets [], with each element separated by a comma ,."
   ]
  },
  {
   "cell_type": "markdown",
   "metadata": {},
   "source": [
    "### 2. Accessing and Printing an Element:"
   ]
  },
  {
   "cell_type": "code",
   "execution_count": 174,
   "metadata": {},
   "outputs": [
    {
     "name": "stdout",
     "output_type": "stream",
     "text": [
      "Hello, world!\n"
     ]
    }
   ],
   "source": [
    "print(greetings[0])"
   ]
  },
  {
   "cell_type": "markdown",
   "metadata": {},
   "source": [
    "Key Aspects:\n",
    "\n",
    "Accessing an Element: To access an element in the list, you use its index inside square brackets []. In Python, list indices start at 0, so greetings[0] retrieves the first element, which is \"Hello, world!\".\n",
    "\n",
    "Printing the Element: The print() function is used to display the element on the screen."
   ]
  },
  {
   "cell_type": "markdown",
   "metadata": {},
   "source": [
    "Learning Outcomes: I understood it at first but then was thrown off as to why 0 is the first item in the list. I asked copilot, 'If I was to choose 2, what would it print' It gave me the example code that I've included below so I could make sense of how arrays work."
   ]
  },
  {
   "cell_type": "code",
   "execution_count": 175,
   "metadata": {},
   "outputs": [
    {
     "name": "stdout",
     "output_type": "stream",
     "text": [
      "Bonjour, le monde!\n"
     ]
    }
   ],
   "source": [
    "# Step 1: Create a list (array)\n",
    "greetings = [\"Hello, world!\", \"¡Hola, mundo!\", \"Bonjour, le monde!\", \"こんにちは、世界！\"]\n",
    "\n",
    "# Step 2: Access and print the third element from the list\n",
    "print(greetings[2])"
   ]
  },
  {
   "cell_type": "markdown",
   "metadata": {},
   "source": [
    "## Importing libraries that extend functionality"
   ]
  },
  {
   "cell_type": "markdown",
   "metadata": {},
   "source": [
    "### Importing a Library:"
   ]
  },
  {
   "cell_type": "code",
   "execution_count": 176,
   "metadata": {},
   "outputs": [],
   "source": [
    "import datetime"
   ]
  },
  {
   "cell_type": "markdown",
   "metadata": {},
   "source": [
    "Import Statement: The import statement is used to include external libraries or modules in your Python program. In this case, we're importing the datetime library, which provides classes for manipulating dates and times.\n",
    "\n",
    "Library: A library is a collection of pre-written code that you can use to perform common tasks, saving you time and effort."
   ]
  },
  {
   "cell_type": "markdown",
   "metadata": {},
   "source": [
    "### Getting the Current Date and Time:"
   ]
  },
  {
   "cell_type": "code",
   "execution_count": 177,
   "metadata": {},
   "outputs": [],
   "source": [
    "current_time = datetime.datetime.now()"
   ]
  },
  {
   "cell_type": "markdown",
   "metadata": {},
   "source": [
    "Accessing a Class: The datetime library contains a class also named datetime. We use datetime.datetime to access this class.\n",
    "\n",
    "Getting the Current Time: The now() method of the datetime class returns the current date and time. We store this value in the variable current_time."
   ]
  },
  {
   "cell_type": "markdown",
   "metadata": {},
   "source": [
    "### Printing the Greeting with the Current Date and Time:"
   ]
  },
  {
   "cell_type": "code",
   "execution_count": 178,
   "metadata": {},
   "outputs": [
    {
     "name": "stdout",
     "output_type": "stream",
     "text": [
      "Hello, world! The current date and time is: 2025-03-04 13:52:12.411032\n"
     ]
    }
   ],
   "source": [
    "print(\"Hello, world! The current date and time is:\", current_time)"
   ]
  },
  {
   "cell_type": "markdown",
   "metadata": {},
   "source": [
    "Combining Strings and Variables: The print() function can take multiple arguments. Here, we're combining the greeting string with the current_time variable to display both the greeting and the current date and time."
   ]
  },
  {
   "cell_type": "markdown",
   "metadata": {},
   "source": [
    "Learning Outcomes: I couldn't udnerstand copilots response initially so I asked it to explain this in a more basic way. It used an analogy of a toolbox and compard libraries to a tool, that you're adding. This made me understand the concept a lot better. The advatages of toolbox are very evident in its ability to break down complicated requests into something very understandable and accessible, alowing me to understand importing libraries. "
   ]
  },
  {
   "cell_type": "markdown",
   "metadata": {},
   "source": [
    "## The concepts of if, elif, and else statements"
   ]
  },
  {
   "cell_type": "code",
   "execution_count": 179,
   "metadata": {},
   "outputs": [
    {
     "name": "stdout",
     "output_type": "stream",
     "text": [
      "Good afternoon, world!\n"
     ]
    }
   ],
   "source": [
    "# Step 1: Import the datetime library\n",
    "import datetime\n",
    "\n",
    "# Step 2: Get the current hour\n",
    "current_hour = datetime.datetime.now().hour\n",
    "\n",
    "# Step 3: Use if, elif, and else statements to print different greetings\n",
    "if current_hour < 12:\n",
    "    print(\"Good morning, world!\")\n",
    "elif current_hour < 18:\n",
    "    print(\"Good afternoon, world!\")\n",
    "else:\n",
    "    print(\"Good evening, world!\")"
   ]
  },
  {
   "cell_type": "markdown",
   "metadata": {},
   "source": [
    "### 1. Importing a Library:\n",
    "\n",
    "What It Does: This line tells Python to bring in some extra tools (code) from the datetime library. Think of it like adding a new tool to your toolbox."
   ]
  },
  {
   "cell_type": "markdown",
   "metadata": {},
   "source": [
    "### 2. Using if, elif, and else Statements\n",
    "\n",
    "if Statement: The if statement checks if the current hour is less than 12. If this condition is true, it prints \"Good morning, world!\".\n",
    "\n",
    "elif Statement: The elif (short for \"else if\") statement checks if the current hour is less than 18. This condition is only checked if the previous if condition was false. If this condition is true, it prints \"Good afternoon, world!\".\n",
    "\n",
    "else Statement: The else statement is executed if none of the previous conditions were true. In this case, it prints \"Good evening, world!\"."
   ]
  },
  {
   "cell_type": "markdown",
   "metadata": {},
   "source": [
    "Learning Outcomes: Although the code has started to get more complicated, due to the ease in which copilot links its previous repsonses together in a strcutured step by step way I can understand how if, elif and else statements work. "
   ]
  }
 ],
 "metadata": {
  "kernelspec": {
   "display_name": "Python 3",
   "language": "python",
   "name": "python3"
  },
  "language_info": {
   "codemirror_mode": {
    "name": "ipython",
    "version": 3
   },
   "file_extension": ".py",
   "mimetype": "text/x-python",
   "name": "python",
   "nbconvert_exporter": "python",
   "pygments_lexer": "ipython3",
   "version": "3.12.1"
  }
 },
 "nbformat": 4,
 "nbformat_minor": 2
}
