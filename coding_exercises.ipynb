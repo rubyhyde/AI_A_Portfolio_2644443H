{
 "cells": [
  {
   "cell_type": "markdown",
   "metadata": {},
   "source": [
    "# Learning basic programming concepts"
   ]
  },
  {
   "cell_type": "markdown",
   "metadata": {},
   "source": [
    "1. Learn Python\n",
    "2. Use Copilot to help me"
   ]
  },
  {
   "cell_type": "markdown",
   "metadata": {},
   "source": [
    "# Hello world!"
   ]
  },
  {
   "cell_type": "markdown",
   "metadata": {},
   "source": [
    "The following code was created as my first attempt at\n",
    "programming in this course. It is meant to help me understand how to write and\n",
    "run code in GitHub Codespaces"
   ]
  },
  {
   "cell_type": "code",
   "execution_count": 25,
   "metadata": {},
   "outputs": [
    {
     "name": "stdout",
     "output_type": "stream",
     "text": [
      "Hello, World!\n"
     ]
    }
   ],
   "source": [
    "print(\"Hello, World!\")"
   ]
  },
  {
   "cell_type": "markdown",
   "metadata": {},
   "source": [
    "# Printing"
   ]
  },
  {
   "cell_type": "markdown",
   "metadata": {},
   "source": [
    "“Could you suggest a python\n",
    "code for ‘Hello, world!’to demonstrate the concept of printing to a\n",
    "complete beginner in programming? Please explain the code step-by-step\n",
    "highlighting any key aspects.”"
   ]
  },
  {
   "cell_type": "markdown",
   "metadata": {},
   "source": [
    "Step-by-Step Explanation:\n",
    "print: This is a built-in Python function used to display output. Functions in Python are blocks of code that perform a specific task. The print function is one of the most commonly used functions, especially for beginners.\n",
    "\n",
    "(\"Hello, world!\"): The text inside the parentheses is called a string. In Python, strings are sequences of characters enclosed in quotes. Here, \"Hello, world!\" is the string we want to print.\n",
    "\n",
    "Quotes: In Python, you can use either single quotes (') or double quotes (\") to define a string. Both work the same way, but it's important to be consistent. In this example, we used double quotes.\n",
    "\n",
    "Parentheses (): These are used to pass arguments to functions. In this case, the string \"Hello, world!\" is the argument passed to the print function.\n",
    "\n",
    "Key Aspects:\n",
    "Indentation: Python uses indentation to define blocks of code. However, for a single line of code like this, indentation isn't necessary. As you progress, you'll see how indentation is crucial for defining loops, functions, and other structures.\n",
    "\n",
    "Syntax: Python's syntax is designed to be readable and straightforward, making it an excellent choice for beginners.\n",
    "\n",
    "Execution: When you run this code, Python interprets it and executes the print function, which outputs the string to the console."
   ]
  },
  {
   "cell_type": "markdown",
   "metadata": {},
   "source": [
    "## Basic Arithmetic Operations"
   ]
  },
  {
   "cell_type": "markdown",
   "metadata": {},
   "source": [
    "This code performs basic arithmetic operations and prints the results:"
   ]
  },
  {
   "cell_type": "code",
   "execution_count": 26,
   "metadata": {},
   "outputs": [
    {
     "name": "stdout",
     "output_type": "stream",
     "text": [
      "5 + 3 = 8\n",
      "10 - 4 = 6\n",
      "7 * 6 = 42\n",
      "8 / 2 = 4.0\n"
     ]
    }
   ],
   "source": [
    "# Addition\n",
    "print(\"5 + 3 =\", 5 + 3)\n",
    "\n",
    "# Subtraction\n",
    "print(\"10 - 4 =\", 10 - 4)\n",
    "\n",
    "# Multiplication\n",
    "print(\"7 * 6 =\", 7 * 6)\n",
    "\n",
    "# Division\n",
    "print(\"8 / 2 =\", 8 / 2)"
   ]
  },
  {
   "cell_type": "markdown",
   "metadata": {},
   "source": [
    "### Learning Outcomes"
   ]
  },
  {
   "cell_type": "markdown",
   "metadata": {},
   "source": [
    "I have learnt how to write python in a way that carries out arithemitc operations, I find this relatively easy to understand as it makes logical sense. I now know that the +, - and = are the same as we're used to in basic maths equatiosn however the x is a *."
   ]
  },
  {
   "cell_type": "markdown",
   "metadata": {},
   "source": [
    "## Variables"
   ]
  },
  {
   "cell_type": "code",
   "execution_count": 27,
   "metadata": {},
   "outputs": [],
   "source": [
    "# This is a comment. Comments are ignored by the computer.\n",
    "# They are used to explain the code to humans."
   ]
  },
  {
   "cell_type": "code",
   "execution_count": 28,
   "metadata": {},
   "outputs": [],
   "source": [
    "message = \"Hello, world!\""
   ]
  },
  {
   "cell_type": "code",
   "execution_count": 29,
   "metadata": {},
   "outputs": [
    {
     "name": "stdout",
     "output_type": "stream",
     "text": [
      "Hello, world!\n"
     ]
    }
   ],
   "source": [
    "print(message)"
   ]
  },
  {
   "cell_type": "markdown",
   "metadata": {},
   "source": [
    "Key Aspects:\n",
    "Variables: Variables store data that can be used and manipulated throughout the program. They make the code more flexible and easier to understand.\n",
    "\n",
    "Assignment: The = sign assigns a value to a variable.\n",
    "\n",
    "Functions: Functions like print() perform specific \n",
    "tasks. In this case, print() displays output."
   ]
  },
  {
   "cell_type": "code",
   "execution_count": 30,
   "metadata": {},
   "outputs": [
    {
     "name": "stdout",
     "output_type": "stream",
     "text": [
      "This is my own prompt\n"
     ]
    }
   ],
   "source": [
    "# This is to remind me that this is my own prompt. \n",
    "message = \"This is my own prompt\"\n",
    "print(message)\n"
   ]
  },
  {
   "cell_type": "markdown",
   "metadata": {},
   "source": [
    "### Learning Outcomes"
   ]
  },
  {
   "cell_type": "markdown",
   "metadata": {},
   "source": [
    "I had to get copilot to explain this in more detail as I initially didn't understand."
   ]
  },
  {
   "cell_type": "markdown",
   "metadata": {},
   "source": [
    "## Functions"
   ]
  },
  {
   "cell_type": "code",
   "execution_count": 31,
   "metadata": {},
   "outputs": [
    {
     "name": "stdout",
     "output_type": "stream",
     "text": [
      "Hello, world!\n"
     ]
    }
   ],
   "source": [
    "# This is a comment. Comments are ignored by the computer.\n",
    "# They are used to explain the code to humans.\n",
    "\n",
    "# We define a function called 'greet'. You can name your function anything you like.\n",
    "def greet():\n",
    "    # Inside the function, we create a variable called 'message' and store the text \"Hello, world!\" in it.\n",
    "    message = \"Hello, world!\"\n",
    "    # We use the print() function to display the value stored in the 'message' variable.\n",
    "    print(message)\n",
    "\n",
    "# We call the 'greet' function to execute the code inside it.\n",
    "greet()"
   ]
  },
  {
   "cell_type": "markdown",
   "metadata": {},
   "source": [
    "Key Aspects:\n",
    "\n",
    "Functions: Functions are reusable blocks of code that perform specific tasks. They help organize and modularize code.\n",
    "\n",
    "Function Definition: The def keyword is used to define a function, followed by the function name and parentheses.\n",
    "\n",
    "Function Call: To execute a function, you call it by its name followed by parentheses."
   ]
  },
  {
   "cell_type": "code",
   "execution_count": 32,
   "metadata": {},
   "outputs": [
    {
     "name": "stdout",
     "output_type": "stream",
     "text": [
      "I like using functions!\n"
     ]
    }
   ],
   "source": [
    "def opinion():\n",
    "    message = \"I like using functions!\"\n",
    "    print(message)\n",
    "opinion()"
   ]
  },
  {
   "cell_type": "markdown",
   "metadata": {},
   "source": [
    "### Learning Outcomes"
   ]
  },
  {
   "cell_type": "markdown",
   "metadata": {},
   "source": [
    "I'm enjoying using copilot to help me learn python as when I'm uncertain about concepts I get it to explain it to me in a clearer way and it will give me more examples. I now undertsand how to use functions."
   ]
  },
  {
   "cell_type": "markdown",
   "metadata": {},
   "source": [
    "## Loops"
   ]
  },
  {
   "cell_type": "code",
   "execution_count": 33,
   "metadata": {},
   "outputs": [
    {
     "name": "stdout",
     "output_type": "stream",
     "text": [
      "Hello, world!\n",
      "Hello, world!\n",
      "Hello, world!\n",
      "Hello, world!\n",
      "Hello, world!\n"
     ]
    }
   ],
   "source": [
    "# This is a comment. Comments are ignored by the computer.\n",
    "# They are used to explain the code to humans.\n",
    "\n",
    "# We use a for loop to repeat the same action multiple times.\n",
    "for i in range(5):\n",
    "    # Inside the loop, we create a variable called 'message' and store the text \"Hello, world!\" in it.\n",
    "    message = \"Hello, world!\"\n",
    "    # We use the print() function to display the value stored in the 'message' variable.\n",
    "    print(message)"
   ]
  },
  {
   "cell_type": "markdown",
   "metadata": {},
   "source": [
    "Key Aspects:\n",
    "Loops: Loops allow you to repeat a block of code multiple times. They are useful for tasks that require repetition.\n",
    "\n",
    "For Loop: The for loop iterates over a sequence of values, executing the loop body for each value.\n",
    "\n",
    "Range Function: The range() function generates a sequence of numbers, which the loop iterates over."
   ]
  },
  {
   "cell_type": "code",
   "execution_count": 34,
   "metadata": {},
   "outputs": [
    {
     "name": "stdout",
     "output_type": "stream",
     "text": [
      "I made this using a loop!\n",
      "I made this using a loop!\n",
      "I made this using a loop!\n",
      "I made this using a loop!\n",
      "I made this using a loop!\n"
     ]
    }
   ],
   "source": [
    "for i in range(5):\n",
    "    message = \"I made this using a loop!\"\n",
    "    print(message)"
   ]
  },
  {
   "cell_type": "markdown",
   "metadata": {},
   "source": [
    "### Learning Outcomes"
   ]
  },
  {
   "cell_type": "markdown",
   "metadata": {},
   "source": [
    "This is beginning to make more logical sense for me as I can see how it multiplies the variable, print. Copilot explains this clearly."
   ]
  },
  {
   "cell_type": "markdown",
   "metadata": {},
   "source": [
    "## Lists"
   ]
  },
  {
   "cell_type": "code",
   "execution_count": 35,
   "metadata": {},
   "outputs": [
    {
     "name": "stdout",
     "output_type": "stream",
     "text": [
      "Hello, world!\n",
      "Hi there!\n",
      "Greetings!\n",
      "Welcome!\n",
      "Good day!\n"
     ]
    }
   ],
   "source": [
    "# This is a comment. Comments are ignored by the computer.\n",
    "# They are used to explain the code to humans.\n",
    "\n",
    "# We create a list called 'messages' that contains multiple strings.\n",
    "messages = [\"Hello, world!\", \"Hi there!\", \"Greetings!\", \"Welcome!\", \"Good day!\"]\n",
    "\n",
    "# We use a for loop to go through each item in the 'messages' list.\n",
    "for message in messages:\n",
    "    # We use the print() function to display each message.\n",
    "    print(message)"
   ]
  },
  {
   "cell_type": "markdown",
   "metadata": {},
   "source": [
    "Key Aspects:\n",
    "\n",
    "Lists: Lists are used to store multiple items in a single variable. They are ordered and changeable.\n",
    "\n",
    "List Elements: The items in a list are called elements. They can be of any data type.\n",
    "\n",
    "For Loop: The for loop iterates over each element in the list, executing the loop body for each element."
   ]
  },
  {
   "cell_type": "code",
   "execution_count": 36,
   "metadata": {},
   "outputs": [
    {
     "name": "stdout",
     "output_type": "stream",
     "text": [
      "Apples\n",
      "Cheese\n",
      "Milk\n",
      "Bread\n",
      "Jam\n"
     ]
    }
   ],
   "source": [
    "messages = [\"Apples\", \"Cheese\", \"Milk\", \"Bread\", \"Jam\"]\n",
    "for message in messages:\n",
    "    print(message)"
   ]
  },
  {
   "cell_type": "markdown",
   "metadata": {},
   "source": [
    "### Learning Outcomes"
   ]
  },
  {
   "cell_type": "markdown",
   "metadata": {},
   "source": [
    "I specifically didn't understand the bit 'for message in messages', which made me go back to ask copilot and this was explained but I often think copilot sometimes struggles to identiy what the user doesn't undertsand about its explanations."
   ]
  },
  {
   "cell_type": "markdown",
   "metadata": {},
   "source": [
    "## Dictionaries"
   ]
  },
  {
   "cell_type": "markdown",
   "metadata": {},
   "source": [
    "### 1. Creating a Dictionary:"
   ]
  },
  {
   "cell_type": "code",
   "execution_count": 37,
   "metadata": {},
   "outputs": [],
   "source": [
    "greetings = {\n",
    "    \"English\": \"Hello, world!\",\n",
    "    \"Spanish\": \"¡Hola, mundo!\",\n",
    "    \"French\": \"Bonjour, le monde!\",\n",
    "    \"Japanese\": \"こんにちは、世界！\"\n",
    "}"
   ]
  },
  {
   "cell_type": "markdown",
   "metadata": {},
   "source": [
    "Key Aspects:\n",
    "\n",
    "Dictionary Definition: A dictionary in Python is a collection of key-value pairs. Each key is unique, and it maps to a value.\n",
    "\n",
    "Keys and Values: In this example, the keys are the names of languages (\"English\", \"Spanish\", \"French\", \"Japanese\"), and the values are the corresponding greetings in those languages.\n",
    "\n",
    "Syntax: Dictionaries are defined using curly braces {}. Each key-value pair is separated by a colon :, and pairs are separated by commas ,."
   ]
  },
  {
   "cell_type": "markdown",
   "metadata": {},
   "source": [
    "### 1. Accessing and Printing a Value:"
   ]
  },
  {
   "cell_type": "code",
   "execution_count": 38,
   "metadata": {},
   "outputs": [
    {
     "name": "stdout",
     "output_type": "stream",
     "text": [
      "Hello, world!\n"
     ]
    }
   ],
   "source": [
    "print(greetings[\"English\"])"
   ]
  },
  {
   "cell_type": "markdown",
   "metadata": {},
   "source": [
    "Key Aspects: \n",
    "\n",
    "Accessing a Value: To access a value in the dictionary, you use the key inside square brackets []. Here, greetings[\"English\"] retrieves the value associated with the key \"English\", which is \"Hello, world!\".\n",
    "\n",
    "Printing the Value: The print() function is used to display the value on the screen."
   ]
  },
  {
   "cell_type": "markdown",
   "metadata": {},
   "source": [
    "### Learning Outcomes"
   ]
  },
  {
   "cell_type": "markdown",
   "metadata": {},
   "source": [
    "I understand it to a certain extent, but I had to confirm with copilot if greetings was a variable. It confirmed that it was as it represents a value. I then was intrigued to try out the different langauges, so I've done that below."
   ]
  },
  {
   "cell_type": "code",
   "execution_count": 39,
   "metadata": {},
   "outputs": [
    {
     "name": "stdout",
     "output_type": "stream",
     "text": [
      "¡Hola, mundo!\n"
     ]
    }
   ],
   "source": [
    "print(greetings[\"Spanish\"])"
   ]
  },
  {
   "cell_type": "markdown",
   "metadata": {},
   "source": [
    "## Arrays"
   ]
  },
  {
   "cell_type": "markdown",
   "metadata": {},
   "source": [
    "### 1. Creating a List (Array)"
   ]
  },
  {
   "cell_type": "code",
   "execution_count": 40,
   "metadata": {},
   "outputs": [],
   "source": [
    "greetings = [\"Hello, world!\", \"¡Hola, mundo!\", \"Bonjour, le monde!\", \"こんにちは、世界！\"]"
   ]
  },
  {
   "cell_type": "markdown",
   "metadata": {},
   "source": [
    "Key Aspects: \n",
    "\n",
    "List Definition: A list in Python is an ordered collection of items. Lists are similar to arrays in other programming languages.\n",
    "\n",
    "Elements: In this example, the list contains four elements, each being a greeting in a different language.\n",
    "\n",
    "Syntax: Lists are defined using square brackets [], with each element separated by a comma ,."
   ]
  },
  {
   "cell_type": "markdown",
   "metadata": {},
   "source": [
    "### 2. Accessing and Printing an Element:"
   ]
  },
  {
   "cell_type": "code",
   "execution_count": 41,
   "metadata": {},
   "outputs": [
    {
     "name": "stdout",
     "output_type": "stream",
     "text": [
      "Hello, world!\n"
     ]
    }
   ],
   "source": [
    "print(greetings[0])"
   ]
  },
  {
   "cell_type": "markdown",
   "metadata": {},
   "source": [
    "Key Aspects:\n",
    "\n",
    "Accessing an Element: To access an element in the list, you use its index inside square brackets []. In Python, list indices start at 0, so greetings[0] retrieves the first element, which is \"Hello, world!\".\n",
    "\n",
    "Printing the Element: The print() function is used to display the element on the screen."
   ]
  },
  {
   "cell_type": "markdown",
   "metadata": {},
   "source": [
    "### Learning Outcomes"
   ]
  },
  {
   "cell_type": "markdown",
   "metadata": {},
   "source": [
    " I understood it at first but then was thrown off as to why 0 is the first item in the list. I asked copilot, 'If I was to choose 2, what would it print' It gave me the example code that I've included below so I could make sense of how arrays work."
   ]
  },
  {
   "cell_type": "code",
   "execution_count": 42,
   "metadata": {},
   "outputs": [
    {
     "name": "stdout",
     "output_type": "stream",
     "text": [
      "Bonjour, le monde!\n"
     ]
    }
   ],
   "source": [
    "# Step 1: Create a list (array)\n",
    "greetings = [\"Hello, world!\", \"¡Hola, mundo!\", \"Bonjour, le monde!\", \"こんにちは、世界！\"]\n",
    "\n",
    "# Step 2: Access and print the third element from the list\n",
    "print(greetings[2])"
   ]
  },
  {
   "cell_type": "markdown",
   "metadata": {},
   "source": [
    "## Importing libraries that extend functionality"
   ]
  },
  {
   "cell_type": "markdown",
   "metadata": {},
   "source": [
    "### Importing a Library:"
   ]
  },
  {
   "cell_type": "code",
   "execution_count": 43,
   "metadata": {},
   "outputs": [],
   "source": [
    "import datetime"
   ]
  },
  {
   "cell_type": "markdown",
   "metadata": {},
   "source": [
    "Import Statement: The import statement is used to include external libraries or modules in your Python program. In this case, we're importing the datetime library, which provides classes for manipulating dates and times.\n",
    "\n",
    "Library: A library is a collection of pre-written code that you can use to perform common tasks, saving you time and effort."
   ]
  },
  {
   "cell_type": "markdown",
   "metadata": {},
   "source": [
    "### Getting the Current Date and Time:"
   ]
  },
  {
   "cell_type": "code",
   "execution_count": 44,
   "metadata": {},
   "outputs": [],
   "source": [
    "current_time = datetime.datetime.now()"
   ]
  },
  {
   "cell_type": "markdown",
   "metadata": {},
   "source": [
    "Accessing a Class: The datetime library contains a class also named datetime. We use datetime.datetime to access this class.\n",
    "\n",
    "Getting the Current Time: The now() method of the datetime class returns the current date and time. We store this value in the variable current_time."
   ]
  },
  {
   "cell_type": "markdown",
   "metadata": {},
   "source": [
    "### Printing the Greeting with the Current Date and Time:"
   ]
  },
  {
   "cell_type": "code",
   "execution_count": 45,
   "metadata": {},
   "outputs": [
    {
     "name": "stdout",
     "output_type": "stream",
     "text": [
      "Hello, world! The current date and time is: 2025-04-12 17:12:33.520623\n"
     ]
    }
   ],
   "source": [
    "print(\"Hello, world! The current date and time is:\", current_time)"
   ]
  },
  {
   "cell_type": "markdown",
   "metadata": {},
   "source": [
    "Combining Strings and Variables: The print() function can take multiple arguments. Here, we're combining the greeting string with the current_time variable to display both the greeting and the current date and time."
   ]
  },
  {
   "cell_type": "markdown",
   "metadata": {},
   "source": [
    "### Learning Outcomes"
   ]
  },
  {
   "cell_type": "markdown",
   "metadata": {},
   "source": [
    "I couldn't understand copilots response initially so I asked it to explain this in a more basic way. It used an analogy of a toolbox and compard libraries to a tool, that you're adding. This made me understand the concept a lot better. The advatages of toolbox are very evident in its ability to break down complicated requests into something very understandable and accessible, alowing me to understand importing libraries. "
   ]
  },
  {
   "cell_type": "markdown",
   "metadata": {},
   "source": [
    "## The concepts of if, elif, and else statements"
   ]
  },
  {
   "cell_type": "code",
   "execution_count": 46,
   "metadata": {},
   "outputs": [
    {
     "name": "stdout",
     "output_type": "stream",
     "text": [
      "Good afternoon, world!\n"
     ]
    }
   ],
   "source": [
    "# Step 1: Import the datetime library\n",
    "import datetime\n",
    "\n",
    "# Step 2: Get the current hour\n",
    "current_hour = datetime.datetime.now().hour\n",
    "\n",
    "# Step 3: Use if, elif, and else statements to print different greetings\n",
    "if current_hour < 12:\n",
    "    print(\"Good morning, world!\")\n",
    "elif current_hour < 18:\n",
    "    print(\"Good afternoon, world!\")\n",
    "else:\n",
    "    print(\"Good evening, world!\")"
   ]
  },
  {
   "cell_type": "markdown",
   "metadata": {},
   "source": [
    "### 1. Importing a Library:\n",
    "\n",
    "What It Does: This line tells Python to bring in some extra tools (code) from the datetime library. Think of it like adding a new tool to your toolbox."
   ]
  },
  {
   "cell_type": "markdown",
   "metadata": {},
   "source": [
    "### 2. Using if, elif, and else Statements\n",
    "\n",
    "if Statement: The if statement checks if the current hour is less than 12. If this condition is true, it prints \"Good morning, world!\".\n",
    "\n",
    "elif Statement: The elif (short for \"else if\") statement checks if the current hour is less than 18. This condition is only checked if the previous if condition was false. If this condition is true, it prints \"Good afternoon, world!\".\n",
    "\n",
    "else Statement: The else statement is executed if none of the previous conditions were true. In this case, it prints \"Good evening, world!\"."
   ]
  },
  {
   "cell_type": "code",
   "execution_count": 47,
   "metadata": {},
   "outputs": [
    {
     "ename": "ValueError",
     "evalue": "invalid literal for int() with base 10: ''",
     "output_type": "error",
     "traceback": [
      "\u001b[0;31m---------------------------------------------------------------------------\u001b[0m",
      "\u001b[0;31mValueError\u001b[0m                                Traceback (most recent call last)",
      "Cell \u001b[0;32mIn[47], line 5\u001b[0m\n\u001b[1;32m      2\u001b[0m user_input \u001b[38;5;241m=\u001b[39m \u001b[38;5;28minput\u001b[39m(\u001b[38;5;124m\"\u001b[39m\u001b[38;5;124mEnter a number between 1 and 3: \u001b[39m\u001b[38;5;124m\"\u001b[39m)\n\u001b[1;32m      4\u001b[0m \u001b[38;5;66;03m# Convert the input to an integer\u001b[39;00m\n\u001b[0;32m----> 5\u001b[0m number \u001b[38;5;241m=\u001b[39m \u001b[38;5;28;43mint\u001b[39;49m\u001b[43m(\u001b[49m\u001b[43muser_input\u001b[49m\u001b[43m)\u001b[49m\n\u001b[1;32m      7\u001b[0m \u001b[38;5;66;03m# Use if, elif, and else to print different messages based on the input\u001b[39;00m\n\u001b[1;32m      8\u001b[0m \u001b[38;5;28;01mif\u001b[39;00m number \u001b[38;5;241m==\u001b[39m \u001b[38;5;241m1\u001b[39m:\n",
      "\u001b[0;31mValueError\u001b[0m: invalid literal for int() with base 10: ''"
     ]
    }
   ],
   "source": [
    "# Get user input\n",
    "user_input = input(\"Enter a number between 1 and 3: \")\n",
    "\n",
    "# Convert the input to an integer\n",
    "number = int(user_input)\n",
    "\n",
    "# Use if, elif, and else to print different messages based on the input\n",
    "if number == 1:\n",
    "    print(\"Hello, world!\")\n",
    "elif number == 2:\n",
    "    print(\"Hello, Python!\")\n",
    "elif number == 3:\n",
    "    print(\"Hello, programmer!\")\n",
    "else:\n",
    "    print(\"Invalid input. Please enter a number between 1 and 3.\")\n"
   ]
  },
  {
   "cell_type": "markdown",
   "metadata": {},
   "source": [
    "### Key Aspects"
   ]
  },
  {
   "cell_type": "markdown",
   "metadata": {},
   "source": [
    "if Statement: Used to check a condition. If the condition is true, the code block under it runs.\n",
    "\n",
    "elif Statement: Short for \"else if\". It checks another condition if the previous if or elif was false.\n",
    "\n",
    "else Statement: Runs if none of the previous conditions were true. It's a catch-all for any other cases."
   ]
  },
  {
   "cell_type": "markdown",
   "metadata": {},
   "source": [
    "### Learning Outcomes"
   ]
  },
  {
   "cell_type": "markdown",
   "metadata": {},
   "source": [
    "Although the code has started to get more complicated, due to the ease in which copilot links its previous repsonses together in a strcutured step by step way I can understand how if, elif and else statements work."
   ]
  },
  {
   "cell_type": "markdown",
   "metadata": {},
   "source": [
    "## Operators"
   ]
  },
  {
   "cell_type": "markdown",
   "metadata": {},
   "source": [
    "Example:"
   ]
  },
  {
   "cell_type": "code",
   "execution_count": null,
   "metadata": {},
   "outputs": [],
   "source": [
    "# Define a string and a number\n",
    "greeting = \"Hello, world!\"\n",
    "number = 3\n",
    "\n",
    "# Addition of strings\n",
    "combined_greeting = greeting + \" How are you?\"\n",
    "print(combined_greeting)\n",
    "\n",
    "# Multiplication of strings\n",
    "repeated_greeting = greeting * number\n",
    "print(repeated_greeting)\n",
    "\n",
    "# Addition of numbers\n",
    "sum_result = number + 5\n",
    "print(\"The sum of\", number, \"and 5 is:\", sum_result)\n",
    "\n",
    "# Multiplication of numbers\n",
    "product_result = number * 2\n",
    "print(\"The product of\", number, \"and 2 is:\", product_result)\n"
   ]
  },
  {
   "cell_type": "markdown",
   "metadata": {},
   "source": [
    "Defining Variables: \n",
    "\n",
    "greeting is a string variable containing \"Hello, world!\".\n",
    "number is an integer variable containing the value 3.\n",
    "\n",
    "Assition of Strings: \n",
    "\n",
    "The + operator concatenates (joins) two strings together. Here, it combines \"Hello, world!\" with \" How are you?\".\n",
    "The result is printed: \"Hello, world! How are you?\"\n",
    "\n",
    "Multiplication of Strings\n",
    "\n",
    "The * operator repeats the string. Here, \"Hello, world!\" is repeated 3 times.\n",
    "The result is printed: \"Hello, world!Hello, world!Hello, world!\"\n",
    "\n",
    "Addition of Numbers:\n",
    "\n",
    "The + operator adds two numbers together. Here, it adds 3 and 5.\n",
    "The result is printed: \"The sum of 3 and 5 is: 8\"\n",
    "\n",
    "Mulitplication of Numbers\n",
    "\n",
    "The * operator multiplies two numbers. Here, it multiplies 3 and 2.\n",
    "The result is printed: \"The product of 3 and 2 is: 6\""
   ]
  },
  {
   "cell_type": "markdown",
   "metadata": {},
   "source": [
    "### Key Aspects"
   ]
  },
  {
   "cell_type": "markdown",
   "metadata": {},
   "source": [
    "String Addition (+): Concatenates two strings, creating a longer string.\n",
    "\n",
    "String Multiplication (*): Repeats the string a specified number of times.\n",
    "Number Addition (+): Adds two numbers together.\n",
    "\n",
    "Number Multiplication (*): Multiplies two numbers."
   ]
  },
  {
   "cell_type": "markdown",
   "metadata": {},
   "source": [
    "### Learning Outcomes"
   ]
  },
  {
   "cell_type": "markdown",
   "metadata": {},
   "source": [
    "The operators I find easier to understand than previous examples, as microsoft copilot explained it in a very logical way breaking it down every step/ "
   ]
  },
  {
   "cell_type": "markdown",
   "metadata": {},
   "source": [
    "## Classes, Objects, Methods"
   ]
  },
  {
   "cell_type": "markdown",
   "metadata": {},
   "source": [
    "Example"
   ]
  },
  {
   "cell_type": "code",
   "execution_count": null,
   "metadata": {},
   "outputs": [],
   "source": [
    "# Define a class named Greeting\n",
    "class Greeting:\n",
    "    # Initialize the class with a message\n",
    "    def __init__(self, message):\n",
    "        self.message = message\n",
    "    \n",
    "    # Define a method to print the message\n",
    "    def say_hello(self):\n",
    "        print(self.message)\n",
    "\n",
    "# Create an object of the Greeting class\n",
    "hello_world = Greeting(\"Hello, world!\")\n",
    "\n",
    "# Call the say_hello method on the object\n",
    "hello_world.say_hello()\n"
   ]
  },
  {
   "cell_type": "markdown",
   "metadata": {},
   "source": [
    "### Step-by-Step Explanation:"
   ]
  },
  {
   "cell_type": "markdown",
   "metadata": {},
   "source": [
    "\n",
    "class Greeting:: This defines a new class named Greeting. A class is a blueprint for creating objects.\n",
    "\n",
    "def __init__(self, message):: This is the initializer method (also called the constructor). It runs when an object of the class is created. The self parameter refers to the instance of the class, and message is a parameter passed to the initializer.\n",
    "\n",
    "self.message = message: This assigns the message parameter to an instance variable message.\n",
    "\n",
    "def say_hello(self):: This defines a method named say_hello that prints the instance variable message.\n",
    "\n",
    "hello_world = Greeting(\"Hello, world!\"): This creates an object of the Greeting class and passes the string \"Hello, world!\" to the initializer. The object hello_world now has the message \"Hello, world!\".\n",
    "\n",
    "hello_world.say_hello(): This calls the say_hello method on the hello_world object. The method prints the message stored in the object, which is \"Hello, world!\"."
   ]
  },
  {
   "cell_type": "markdown",
   "metadata": {},
   "source": [
    "### Key Aspects"
   ]
  },
  {
   "cell_type": "markdown",
   "metadata": {},
   "source": [
    "Class: A blueprint for creating objects. It defines a set of attributes and methods that the created objects will have.\n",
    "\n",
    "Object: An instance of a class. It is created using the class and can use the methods defined in the class.\n",
    "\n",
    "Method: A function defined within a class that operates on objects of that class.\n",
    "\n",
    "Initializer (__init__): A special method that initializes the object's attributes when it is created."
   ]
  },
  {
   "cell_type": "markdown",
   "metadata": {},
   "source": [
    "### Learning Outcomes"
   ]
  },
  {
   "cell_type": "markdown",
   "metadata": {},
   "source": [
    "I found it really difficult to understand what copilot was explaing here therefore I used a new prompt of 'Break this down even more' and it gave me the results below and I understood much more comprehensively."
   ]
  },
  {
   "cell_type": "markdown",
   "metadata": {},
   "source": [
    "## 1.Defining a Class"
   ]
  },
  {
   "cell_type": "markdown",
   "metadata": {},
   "source": [
    "A class is like a blueprint for creating objects. It defines what attributes (variables) and methods (functions) the objects created from the class will have."
   ]
  },
  {
   "cell_type": "code",
   "execution_count": null,
   "metadata": {},
   "outputs": [],
   "source": [
    "class Greeting:\n",
    "    def __init__(self, message):\n",
    "        self.message = message\n",
    "    \n",
    "    def say_hello(self):\n",
    "        print(self.message)\n"
   ]
  },
  {
   "cell_type": "markdown",
   "metadata": {},
   "source": [
    "class Greeting:: This line defines a new class named Greeting.\n",
    "\n",
    "def __init__(self, message):: This is the initializer method. It runs when an object of the class is created. The self parameter refers to the instance of the class, and message is a parameter passed to the initializer.\n",
    "\n",
    "self.message = message: This line assigns the message parameter to an instance variable message. This means each object created from the Greeting class will have its own message.\n",
    "\n",
    "def say_hello(self):: This defines a method named say_hello that prints the instance variable message."
   ]
  },
  {
   "cell_type": "markdown",
   "metadata": {},
   "source": [
    "### Creating an Object"
   ]
  },
  {
   "cell_type": "markdown",
   "metadata": {},
   "source": [
    "An object is an instance of a class. When you create an object, you use the class as a blueprint."
   ]
  },
  {
   "cell_type": "code",
   "execution_count": null,
   "metadata": {},
   "outputs": [],
   "source": [
    "hello_world = Greeting(\"Hello, world!\")\n"
   ]
  },
  {
   "cell_type": "markdown",
   "metadata": {},
   "source": [
    "\n",
    "hello_world = Greeting(\"Hello, world!\"): This line creates an object of the Greeting class and passes the string \"Hello, world!\" to the initializer. The object hello_world now has the message \"Hello, world!\"."
   ]
  },
  {
   "cell_type": "markdown",
   "metadata": {},
   "source": [
    "### 3. Calling a Method"
   ]
  },
  {
   "cell_type": "markdown",
   "metadata": {},
   "source": [
    "A method is a function defined within a class that operates on objects of that class. You can call methods on objects to perform actions."
   ]
  },
  {
   "cell_type": "code",
   "execution_count": null,
   "metadata": {},
   "outputs": [],
   "source": [
    "hello_world.say_hello()\n"
   ]
  },
  {
   "cell_type": "markdown",
   "metadata": {},
   "source": [
    "hello_world.say_hello(): This line calls the say_hello method on the hello_world object. The method prints the message stored in the object, which is \"Hello, world!\"."
   ]
  },
  {
   "cell_type": "markdown",
   "metadata": {},
   "source": [
    "### Putting It All Together"
   ]
  },
  {
   "cell_type": "code",
   "execution_count": null,
   "metadata": {},
   "outputs": [],
   "source": [
    "# Define a class named Greeting\n",
    "class Greeting:\n",
    "    # Initialize the class with a message\n",
    "    def __init__(self, message):\n",
    "        self.message = message\n",
    "    \n",
    "    # Define a method to print the message\n",
    "    def say_hello(self):\n",
    "        print(self.message)\n",
    "\n",
    "# Create an object of the Greeting class\n",
    "hello_world = Greeting(\"Hello, world!\")\n",
    "\n",
    "# Call the say_hello method on the object\n",
    "hello_world.say_hello()\n"
   ]
  },
  {
   "cell_type": "markdown",
   "metadata": {},
   "source": [
    "## Syntax"
   ]
  },
  {
   "cell_type": "markdown",
   "metadata": {},
   "source": [
    "### Key Aspects of Python Syntax"
   ]
  },
  {
   "cell_type": "markdown",
   "metadata": {},
   "source": [
    "### Comments"
   ]
  },
  {
   "cell_type": "markdown",
   "metadata": {},
   "source": [
    "Comments are lines of code that the Python interpreter ignores. They’re used to explain what your code does and to make it more readable."
   ]
  },
  {
   "cell_type": "code",
   "execution_count": null,
   "metadata": {},
   "outputs": [],
   "source": [
    "# This is a single-line comment\n"
   ]
  },
  {
   "cell_type": "markdown",
   "metadata": {},
   "source": [
    "Key aspects:\n",
    "\n",
    "Variable names should be descriptive, e.g., height instead of h.\n",
    "\n",
    "Use snake_case for variable names (as per PEP 8). For example, user_name, not userName."
   ]
  },
  {
   "cell_type": "markdown",
   "metadata": {},
   "source": [
    "### Indentation"
   ]
  },
  {
   "cell_type": "markdown",
   "metadata": {},
   "source": [
    "Python uses indentation (spaces or tabs) to define blocks of code. Indentation is crucial and NOT optional."
   ]
  },
  {
   "cell_type": "code",
   "execution_count": null,
   "metadata": {},
   "outputs": [],
   "source": [
    "if age > 18:\n",
    "    print(\"You are an adult.\")  # This line is indented\n"
   ]
  },
  {
   "cell_type": "markdown",
   "metadata": {},
   "source": [
    "Key aspects:\n",
    "\n",
    "Use 4 spaces per indentation level (recommended by PEP 8).\n",
    "\n",
    "Consistent indentation prevents errors."
   ]
  },
  {
   "cell_type": "markdown",
   "metadata": {},
   "source": [
    "### Print Statements"
   ]
  },
  {
   "cell_type": "markdown",
   "metadata": {},
   "source": [
    "To display output, use the print() function."
   ]
  },
  {
   "cell_type": "code",
   "execution_count": null,
   "metadata": {},
   "outputs": [],
   "source": [
    "print(\"Hello, World!\")\n"
   ]
  },
  {
   "cell_type": "markdown",
   "metadata": {},
   "source": [
    "### Data Types"
   ]
  },
  {
   "cell_type": "markdown",
   "metadata": {},
   "source": [
    "Python has different data types like strings, integers, floats, booleans, lists, dictionaries, etc.\n"
   ]
  },
  {
   "cell_type": "code",
   "execution_count": null,
   "metadata": {},
   "outputs": [],
   "source": [
    "# Data types\n",
    "is_student = True               # Boolean\n",
    "marks = [80, 90, 100]           # List\n",
    "student_info = {\"name\": \"Alice\", \"age\": 25}  # Dictionary\n"
   ]
  },
  {
   "cell_type": "markdown",
   "metadata": {},
   "source": [
    "### Conditionals"
   ]
  },
  {
   "cell_type": "code",
   "execution_count": null,
   "metadata": {},
   "outputs": [],
   "source": [
    "if age >= 18:\n",
    "    print(\"Adult\")\n",
    "elif 13 <= age < 18:\n",
    "    print(\"Teenager\")\n",
    "else:\n",
    "    print(\"Child\")\n"
   ]
  },
  {
   "cell_type": "markdown",
   "metadata": {},
   "source": [
    "Key aspects:\n",
    "\n",
    "Use if, elif, and else for conditions.\n",
    "\n",
    "Always indent the code inside the block."
   ]
  },
  {
   "cell_type": "markdown",
   "metadata": {},
   "source": [
    "### Variables and Assignments"
   ]
  },
  {
   "cell_type": "markdown",
   "metadata": {},
   "source": [
    "Variables are used to store data. In Python, you don’t need to declare the type of a variable."
   ]
  },
  {
   "cell_type": "code",
   "execution_count": null,
   "metadata": {},
   "outputs": [],
   "source": [
    "name = \"Alice\"  # A string\n",
    "age = 25        # An integer\n",
    "height = 5.6    # A float"
   ]
  },
  {
   "cell_type": "markdown",
   "metadata": {},
   "source": [
    "### Loops"
   ]
  },
  {
   "cell_type": "markdown",
   "metadata": {},
   "source": [
    "Loops allow you to repeat a block of code."
   ]
  },
  {
   "cell_type": "code",
   "execution_count": null,
   "metadata": {},
   "outputs": [],
   "source": [
    "for mark in marks:\n",
    "    print(mark)\n",
    "count = 0\n",
    "while count < 3:\n",
    "    print(count)\n",
    "    count += 1\n"
   ]
  },
  {
   "cell_type": "markdown",
   "metadata": {},
   "source": [
    "### Functions"
   ]
  },
  {
   "cell_type": "markdown",
   "metadata": {},
   "source": [
    "Functions allow you to group reusable pieces of code."
   ]
  },
  {
   "cell_type": "code",
   "execution_count": null,
   "metadata": {},
   "outputs": [],
   "source": [
    "def greet(name):\n",
    "    return f\"Hello, {name}!\"\n",
    "\n",
    "print(greet(\"Alice\"))\n",
    "def greet(name):\n",
    "    \"\"\"\n",
    "    This function returns a greeting message.\n",
    "    \"\"\"\n",
    "    return f\"Hello, {name}!\"\n"
   ]
  },
  {
   "cell_type": "markdown",
   "metadata": {},
   "source": [
    "### Importing Libraries"
   ]
  },
  {
   "cell_type": "markdown",
   "metadata": {},
   "source": [
    "Python allows you to use pre-built libraries. Use import to bring them in."
   ]
  },
  {
   "cell_type": "code",
   "execution_count": null,
   "metadata": {},
   "outputs": [],
   "source": [
    "import math\n",
    "\n",
    "print(math.sqrt(16))  # Outputs: 4.0\n"
   ]
  },
  {
   "cell_type": "markdown",
   "metadata": {},
   "source": [
    "### Error Handling"
   ]
  },
  {
   "cell_type": "markdown",
   "metadata": {},
   "source": [
    "Handle errors gracefully using try and except."
   ]
  },
  {
   "cell_type": "code",
   "execution_count": null,
   "metadata": {},
   "outputs": [],
   "source": [
    "try:\n",
    "    result = 10 / 0  # This will raise an error\n",
    "except ZeroDivisionError:\n",
    "    print(\"You can't divide by zero!\")\n"
   ]
  },
  {
   "cell_type": "markdown",
   "metadata": {},
   "source": [
    "### Python Styling Guides"
   ]
  },
  {
   "cell_type": "markdown",
   "metadata": {},
   "source": [
    "PEP 8: The most widely recognized Python styling guide. (Python Software Foundation, n.d.)\n",
    "\n",
    "The Hitchhiker's Guide to Python: Offers practical advice on Python code style. (Reitz, n.d.)"
   ]
  },
  {
   "cell_type": "markdown",
   "metadata": {},
   "source": [
    "### Learning Outcomes"
   ]
  },
  {
   "cell_type": "markdown",
   "metadata": {},
   "source": [
    "This prompt was a lot easier to understand as I'm already familiar with most of the syntax from the previous prompts, although there were some new ones. Moreover, it was very useful to have the links to the guides to python as it offered another perspective and description on python that wasn't AI."
   ]
  },
  {
   "cell_type": "markdown",
   "metadata": {},
   "source": [
    "## Simplicity, Security, Inclusion"
   ]
  },
  {
   "cell_type": "markdown",
   "metadata": {},
   "source": [
    "### 1. Emphasizing Simplicity"
   ]
  },
  {
   "cell_type": "markdown",
   "metadata": {},
   "source": [
    "The simplest form of \"Hello, World!\" focuses on readability and minimalism."
   ]
  },
  {
   "cell_type": "code",
   "execution_count": null,
   "metadata": {},
   "outputs": [],
   "source": [
    "print(\"Hello, World!\")\n"
   ]
  },
  {
   "cell_type": "markdown",
   "metadata": {},
   "source": [
    "Steps:\n",
    "\n",
    "Write the statement: Use the print() function to display text to the console.\n",
    "\n",
    "Provide the message: Enclose \"Hello, World!\" in double quotes (\").\n",
    "\n",
    "Key aspects:\n",
    "\n",
    "Python’s philosophy values simplicity and readability (from the \"Zen of Python\": Simple is better than complex).\n",
    "\n",
    "No unnecessary code—this is the most basic and beginner-friendly approach."
   ]
  },
  {
   "cell_type": "markdown",
   "metadata": {},
   "source": [
    "### Emphasizing Security"
   ]
  },
  {
   "cell_type": "code",
   "execution_count": null,
   "metadata": {},
   "outputs": [],
   "source": [
    "def safe_message():\n",
    "    \"\"\"\n",
    "    Returns a safe greeting message.\n",
    "    \"\"\"\n",
    "    return \"Hello, World!\"\n",
    "\n",
    "if __name__ == \"__main__\":\n",
    "    print(safe_message())\n"
   ]
  },
  {
   "cell_type": "markdown",
   "metadata": {},
   "source": [
    "Steps:\n",
    "\n",
    "Define a function: safe_message() encapsulates the greeting.\n",
    "\n",
    "Functions improve modularity and make code easier to test or update.\n",
    "\n",
    "Add docstrings: Describe what the function does for clarity.\n",
    "\n",
    "Use if __name__ == \"__main__\": This ensures the program executes as intended when run directly, preventing unintentional execution if imported elsewhere.\n",
    "\n",
    "Key aspects:\n",
    "\n",
    "Secure code is modular, reusable, and predictable.\n",
    "\n",
    "Avoid direct hardcoding or exposing sensitive logic.\n",
    "\n",
    "Protect execution context using the if __name__ == \"__main__\" construct."
   ]
  },
  {
   "cell_type": "markdown",
   "metadata": {},
   "source": [
    "### 3. Emphasizing Inclusion\n"
   ]
  },
  {
   "cell_type": "markdown",
   "metadata": {},
   "source": [
    "To highlight inclusivity, the program can dynamically adapt to user preferences, such as displaying a message in their preferred language."
   ]
  },
  {
   "cell_type": "code",
   "execution_count": null,
   "metadata": {},
   "outputs": [],
   "source": [
    "def hello_world(language=\"en\"):\n",
    "    \"\"\"\n",
    "    Returns a greeting message in the specified language.\n",
    "    \"\"\"\n",
    "    messages = {\n",
    "        \"en\": \"Hello, World!\",  # English\n",
    "        \"es\": \"¡Hola, Mundo!\",  # Spanish\n",
    "        \"fr\": \"Bonjour, Monde!\",  # French\n",
    "        \"ja\": \"こんにちは、世界！\",  # Japanese\n",
    "    }\n",
    "    return messages.get(language, \"Hello, World!\")  # Default to English\n",
    "\n",
    "# Ask for user preference\n",
    "user_language = input(\"Enter your preferred language code (e.g., 'en', 'es', 'fr', 'ja'): \")\n",
    "print(hello_world(user_language))\n"
   ]
  },
  {
   "cell_type": "markdown",
   "metadata": {},
   "source": [
    "Steps:\n",
    "\n",
    "Define a function: hello_world(language) returns a greeting in the user’s preferred language.\n",
    "\n",
    "Create a dictionary: messages stores greetings in various languages, supporting inclusivity.\n",
    "\n",
    "Provide a default option: Use .get() to default to English if the language code is unsupported.\n",
    "\n",
    "Interact with the user: Use input() to let the user specify their preferred language.\n",
    "\n",
    "Key aspects:\n",
    "\n",
    "Supports diverse audiences by offering greetings in multiple languages.\n",
    "\n",
    "Provides a default for accessibility and fallback.\n",
    "\n",
    "Shows respect for user preferences."
   ]
  },
  {
   "cell_type": "markdown",
   "metadata": {},
   "source": [
    "### Learning Outcomes"
   ]
  },
  {
   "cell_type": "markdown",
   "metadata": {},
   "source": [
    "I really enjoyed this prompt as it was intresting to think of python in a more philosophical way than just code. These examples also allowed me to undertsand the different aspects of python and how you champion simplicity, security and inclusion whilst coding."
   ]
  },
  {
   "cell_type": "markdown",
   "metadata": {},
   "source": [
    "## Reference List"
   ]
  },
  {
   "cell_type": "markdown",
   "metadata": {},
   "source": [
    "Python Software Foundation, n.d. PEP 8 – Style Guide for Python Code. Available at: <https://peps.python.org/pep-0008/> [Accessed 12 April 2025]."
   ]
  },
  {
   "cell_type": "markdown",
   "metadata": {},
   "source": [
    "Reitz, K., n.d. The Hitchhiker's Guide to Python. Available at: <https://docs.python-guide.org/> [Accessed 12 April 2025]."
   ]
  }
 ],
 "metadata": {
  "kernelspec": {
   "display_name": "Python 3",
   "language": "python",
   "name": "python3"
  },
  "language_info": {
   "codemirror_mode": {
    "name": "ipython",
    "version": 3
   },
   "file_extension": ".py",
   "mimetype": "text/x-python",
   "name": "python",
   "nbconvert_exporter": "python",
   "pygments_lexer": "ipython3",
   "version": "3.12.1"
  }
 },
 "nbformat": 4,
 "nbformat_minor": 2
}
